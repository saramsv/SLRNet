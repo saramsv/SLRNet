{
 "cells": [
  {
   "cell_type": "markdown",
   "metadata": {},
   "source": [
    "## Matching evakuation\n",
    "- Used 5 random donors\n",
    "- Found their labeled images\n",
    "- Found sequences (matches) for each labeld image\n",
    "- Now here we are going to evaluate the purity of the clusters\n"
   ]
  },
  {
   "cell_type": "code",
   "execution_count": 5,
   "metadata": {},
   "outputs": [],
   "source": [
    "import pandas as pd\n",
    "import numpy as np\n",
    "import matplotlib.pyplot as plt\n",
    "import glob\n",
    "import os\n",
    "import cv2\n",
    "import json"
   ]
  },
  {
   "cell_type": "code",
   "execution_count": 6,
   "metadata": {},
   "outputs": [],
   "source": [
    "data = pd.read_csv(\"data/5random_donors_cleaned_clusters.uniq\", names=['img','label','cluster_id'])"
   ]
  },
  {
   "cell_type": "code",
   "execution_count": 7,
   "metadata": {},
   "outputs": [
    {
     "name": "stdout",
     "output_type": "stream",
     "text": [
      "95.23378707214111\n"
     ]
    }
   ],
   "source": [
    "def eval_purity(data):\n",
    "    clusters= data['cluster_id'].unique()\n",
    "    purities = []\n",
    "    for cluster in clusters:\n",
    "        labels = data[data['cluster_id'] == cluster]['label']\n",
    "        labels_count = labels.value_counts()\n",
    "        count_of_dominant_class = labels_count.max()\n",
    "        purity = count_of_dominant_class/labels.size\n",
    "        purities.append(purity *100)\n",
    "    return purities\n",
    "\n",
    "\n",
    "purities = eval_purity(data)\n",
    "print(np.mean(np.array(purities)))"
   ]
  },
  {
   "cell_type": "code",
   "execution_count": 8,
   "metadata": {},
   "outputs": [
    {
     "data": {
      "text/plain": [
       "(array([  1.,   5.,   1.,   1.,   1.,   1.,   2.,   5.,   1., 122.]),\n",
       " array([ 33.33333333,  40.        ,  46.66666667,  53.33333333,\n",
       "         60.        ,  66.66666667,  73.33333333,  80.        ,\n",
       "         86.66666667,  93.33333333, 100.        ]),\n",
       " <a list of 10 Patch objects>)"
      ]
     },
     "execution_count": 8,
     "metadata": {},
     "output_type": "execute_result"
    },
    {
     "data": {
      "image/png": "[encoded data removed]",
      "text/plain": [
       "<Figure size 432x288 with 1 Axes>"
      ]
     },
     "metadata": {
      "needs_background": "light"
     },
     "output_type": "display_data"
    }
   ],
   "source": [
    "plt.hist(purities)"
   ]
  },
  {
   "cell_type": "markdown",
   "metadata": {},
   "source": [
    "## Pairs"
   ]
  },
  {
   "cell_type": "markdown",
   "metadata": {},
   "source": [
    "## odgt format pairs"
   ]
  },
  {
   "cell_type": "code",
   "execution_count": 9,
   "metadata": {},
   "outputs": [],
   "source": [
    "def pair(filename, labeled_img_dir, all_img_dir, labels_dir, dest_filename, extension):\n",
    "    df_seqs = pd.read_csv(filename , sep=\",\", names=['img', 'label', 'cluster_id'])\n",
    "    h, w = 400, 600\n",
    "    with open(dest_filename + \".odgt\", \"w\") as fw:\n",
    "\n",
    "        for img in glob.glob(labels_dir + '/*.png'):\n",
    "            img_name = img.split(\"/\")[-1]\n",
    "            img_path = os.path.join(all_img_dir, img_name.replace(extension, \".JPG\"))\n",
    "\n",
    "            cluster_name = df_seqs[df_seqs['img'].str.contains(img_path.split('/')[-1])]\n",
    "            if cluster_name.shape[0] > 0:\n",
    "                cluster_name = cluster_name.reset_index(drop=True)['cluster_id'][0]\n",
    "                seq_match = df_seqs[df_seqs['cluster_id'] == cluster_name].reset_index(drop=True)\n",
    "                \n",
    "                img_path = \"/usb/sara_img/\" + img_path\n",
    "\n",
    "                if seq_match.shape[0] >= 2:\n",
    "                    img_names = [img_path]\n",
    "                    seg = labels_dir + img_name.split('.')[0] + '.png'\n",
    "                    seg_names = [seg] * 2\n",
    "                    for row in seq_match.iterrows():\n",
    "                        if row[1].img not in img_names:\n",
    "                            img_names.append(\"/usb/sara_img/\" + row[1].img.split('/')[-1])\n",
    "                        if len(img_names) == 2:\n",
    "                            new_line = {}\n",
    "                            new_line[\"fpath_img\"], new_line[\"fpath_segm\"], new_line[\"width\"], new_line[\"height\"] = \\\n",
    "                                    img_names, seg_names, w, h\n",
    "                            json.dump(new_line, fw)\n",
    "                            fw.write('\\n')\n",
    "                            img_names = [img_path]\n",
    "                            seg_names = [seg] * 2"
   ]
  },
  {
   "cell_type": "code",
   "execution_count": 10,
   "metadata": {},
   "outputs": [],
   "source": [
    "cluster_file = \"/data/sara/semantic-segmentation-pytorch/data/5random_donors_cleaned_clusters.uniq\"\n",
    "dest_filename = \"/data/sara/semantic-segmentation-pytorch/data/5random_donors_seqs_with_ann_pairs\"\n",
    "## only to get the pairs\n",
    "labeled_img_dir = \"/usb/sara_img/\"    \n",
    "all_img_dir = \"/usb/sara_img/\"\n",
    "labels_dir = \"/data/sara/semantic-segmentation-pytorch/all_body_part_annotations/\"\n",
    "extension = \".png\""
   ]
  },
  {
   "cell_type": "code",
   "execution_count": 11,
   "metadata": {},
   "outputs": [],
   "source": [
    "pair(cluster_file, labeled_img_dir,all_img_dir ,labels_dir, dest_filename, extension)"
   ]
  },
  {
   "cell_type": "markdown",
   "metadata": {},
   "source": [
    "## odgt format pairs + labels"
   ]
  },
  {
   "cell_type": "code",
   "execution_count": 12,
   "metadata": {},
   "outputs": [],
   "source": [
    "def label_pairs(filename, labeled_img_dir, all_img_dir, labels_dir, dest_filename, extension):\n",
    "    df_seqs = pd.read_csv(filename , sep=\",\", names=['img', 'label', 'cluster_id'])\n",
    "    h, w = 400, 600\n",
    "    with open(dest_filename + \".odgt\", \"w\") as fw:\n",
    "\n",
    "        for img in glob.glob(labels_dir + '/*.png'):\n",
    "            img_name = img.split(\"/\")[-1]\n",
    "            img_path = os.path.join(all_img_dir, img_name.replace(extension, \".JPG\"))\n",
    "\n",
    "\n",
    "            matches = df_seqs[df_seqs['img'].str.contains(img_path.split('/')[-1])]\n",
    "            if matches.shape[0] > 0:\n",
    "                cluster_name = matches.reset_index(drop=True)['cluster_id'][0]\n",
    "                label1 = matches.reset_index(drop=True)['label'][0]\n",
    "                seq_match = df_seqs[df_seqs['cluster_id'] == cluster_name].reset_index(drop=True)\n",
    "                \n",
    "                #img_path = \"/usb/sara_img/\" + img_path\n",
    "                if seq_match.shape[0] >= 2:\n",
    "                    img_names = [img_path]\n",
    "                    labels = [label1]\n",
    "                    for row in seq_match.iterrows():\n",
    "                        if row[1].img not in img_names:\n",
    "                            img_names.append(\"/usb/sara_img/\" + row[1].img.split('/')[-1])\n",
    "                            labels.append(row[1].label)\n",
    "                        if len(img_names) == 2:\n",
    "                            new_line = {}\n",
    "                            new_line[\"fpath_img\"], new_line[\"fpath_segm\"], new_line[\"width\"], new_line[\"height\"], new_line[\"same_class\"] = \\\n",
    "                                    img_names, labels, w, h, labels[0] == labels[1]\n",
    "                            json.dump(new_line, fw)\n",
    "                            fw.write('\\n')\n",
    "                            img_names = [img_path]\n",
    "                            labels = [label1]"
   ]
  },
  {
   "cell_type": "code",
   "execution_count": 13,
   "metadata": {},
   "outputs": [],
   "source": [
    "label_pairs(cluster_file, labeled_img_dir,all_img_dir ,labels_dir, dest_filename + \"_labeled\", extension)\n"
   ]
  },
  {
   "cell_type": "markdown",
   "metadata": {},
   "source": [
    "## before running the next block you should first remove the duplicates"
   ]
  },
  {
   "cell_type": "code",
   "execution_count": 14,
   "metadata": {},
   "outputs": [],
   "source": [
    "df = pd.read_json(\"data/5random_donors_seqs_with_ann_pairs_labeled.odgt.uniq\", lines=True)"
   ]
  },
  {
   "cell_type": "code",
   "execution_count": 15,
   "metadata": {},
   "outputs": [
    {
     "data": {
      "text/plain": [
       "True     1272\n",
       "False      66\n",
       "Name: same_class, dtype: int64"
      ]
     },
     "execution_count": 15,
     "metadata": {},
     "output_type": "execute_result"
    }
   ],
   "source": [
    "df['same_class'].value_counts()"
   ]
  },
  {
   "cell_type": "code",
   "execution_count": 16,
   "metadata": {},
   "outputs": [],
   "source": [
    "good_pairs_percentage =  df[df['same_class'] == True].shape[0] /df.shape[0]"
   ]
  },
  {
   "cell_type": "code",
   "execution_count": 17,
   "metadata": {},
   "outputs": [
    {
     "data": {
      "text/plain": [
       "0.9506726457399103"
      ]
     },
     "execution_count": 17,
     "metadata": {},
     "output_type": "execute_result"
    }
   ],
   "source": [
    "good_pairs_percentage"
   ]
  },
  {
   "cell_type": "code",
   "execution_count": null,
   "metadata": {},
   "outputs": [],
   "source": []
  },
  {
   "cell_type": "code",
   "execution_count": null,
   "metadata": {},
   "outputs": [],
   "source": [
    "len(purities)"
   ]
  },
  {
   "cell_type": "code",
   "execution_count": null,
   "metadata": {},
   "outputs": [],
   "source": [
    "#root@2a54cb8c6a49:/data/sara/semantic-segmentation-pytorch# data/5random_donors_seqs_with_ann_pairs_labeled.odgt | awk -F \",\" '{print $2}' | sort -u | wc -l\n",
    "#818\n",
    "#root@2a54cb8c6a49:/data/sara/semantic-segmentation-pytorch# cat 5random_donors_seqs_with_ann_pairs_labeled.odgt |wc -l\n",
    "#12584\n",
    "#root@2a54cb8c6a49:/data/sara/semantic-segmentation-pytorch# cat data/5random_donors_seqs_with_ann_pairs_labeled.odgt |sort -u |wc -l\n",
    "#1338\n",
    "#root@2a54cb8c6a49:/data/sara/semantic-segmentation-pytorch# cat 5random_donors_seqs_with_ann_pairs_labeled.odgt |sort -u  > 5random_donors_seqs_with_ann_pairs_labeled.odgt.uniq\n",
    "#root@2a54cb8c6a49:/data/sara/semantic-segmentation-pytorch# cat data/5random_donors_cleaned_clusters | wc -l\n",
    "#6027\n",
    "#root@2a54cb8c6a49:/data/sara/semantic-segmentation-pytorch# cat data/5random_donors_cleaned_clusters | sort -u |wc -l\n",
    "#1268\n",
    "#root@2a54cb8c6a49:/data/sara/semantic-segmentation-pytorch# cat data/5random_donors_cleaned_clusters | sort -u > data/5random_donors_cleaned_clusters.uniq\n",
    "#root@2a54cb8c6a49:/data/sara/semantic-segmentation-pytorch# cat data/5random_donors_seqs_with_ann_pairs_labeled.odgt| awk -F \",\" '{print $1}' | sort -u | wc -l\n",
    "#107"
   ]
  }
 ],
 "metadata": {
  "kernelspec": {
   "display_name": "Python 3",
   "language": "python",
   "name": "python3"
  },
  "language_info": {
   "codemirror_mode": {
    "name": "ipython",
    "version": 3
   },
   "file_extension": ".py",
   "mimetype": "text/x-python",
   "name": "python",
   "nbconvert_exporter": "python",
   "pygments_lexer": "ipython3",
   "version": "3.7.10"
  }
 },
 "nbformat": 4,
 "nbformat_minor": 4
}
