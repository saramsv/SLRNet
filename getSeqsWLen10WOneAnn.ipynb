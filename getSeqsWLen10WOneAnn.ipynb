{
 "cells": [
  {
   "cell_type": "code",
   "execution_count": 1,
   "metadata": {},
   "outputs": [],
   "source": [
    "import pandas as pd\n",
    "import glob\n",
    "import sys\n",
    "import json\n",
    "import csv"
   ]
  },
  {
   "cell_type": "code",
   "execution_count": 2,
   "metadata": {},
   "outputs": [],
   "source": [
    "df_seqs = pd.read_csv(\"data/sequence_data/AllMnaullyImgLevelLabeledSeqsWith10SBPPlusAllSeqsWithOneAnn2beCleaned\", \n",
    "                      sep=\":\", \n",
    "                      names=['img', 'label'])\n",
    "seq_size = 10"
   ]
  },
  {
   "cell_type": "markdown",
   "metadata": {},
   "source": [
    "## get sequences with len 10 in flat format"
   ]
  },
  {
   "cell_type": "code",
   "execution_count": 39,
   "metadata": {
    "scrolled": true
   },
   "outputs": [],
   "source": [
    "sys.stdout = open(\"seqsWLen10WOneAnnFlat\", \"w\")\n",
    "res_df = pd.DataFrame()\n",
    "seq_counts = 0\n",
    "for path in glob.glob(\"new_train_noBack_annotations/\" + \"*.png\"):\n",
    "    img_name = path.split(\"/\")[-1][:-4]\n",
    "    match = df_seqs[df_seqs['img'].str.contains(img_name)]\n",
    "    if match.shape[0] > 0:\n",
    "        match = match.reset_index(drop = True)\n",
    "        labels = match.label.unique()\n",
    "        for label in labels:\n",
    "            seq_match = df_seqs[df_seqs['label'].str.contains(label)]\n",
    "            seq_match = seq_match.reset_index(drop = True)\n",
    "            if seq_match.shape[0] >= seq_size - 1:\n",
    "                print(\"/usb/seq_data_for_mit_code/{}.JPG: new_train_noBack_annotations/{}.png\".\n",
    "                     format(img_name, img_name))\n",
    "                res = seq_match.sample(seq_size - 1).reset_index(drop = True)\n",
    "                for row in res.iterrows():\n",
    "                    print(\"/usb/seq_data_for_mit_code/{}: new_train_noBack_annotations/{}.png\".\n",
    "                          format(row[1].img.split('/')[-1].replace('.icon',''), img_name))\n",
    "                seq_counts += 1\n",
    "\n"
   ]
  },
  {
   "cell_type": "markdown",
   "metadata": {},
   "source": [
    "## get sequences with len 10 in odgt format"
   ]
  },
  {
   "cell_type": "code",
   "execution_count": 5,
   "metadata": {},
   "outputs": [],
   "source": [
    "with open(\"seqsWLen10WOneAnn.odgt\", \"w\") as fw:\n",
    "    seq_counts = 0\n",
    "    for path in glob.glob(\"new_train_noBack_annotations/\" + \"*.png\"):\n",
    "        img_name = path.split(\"/\")[-1][:-4]\n",
    "        match = df_seqs[df_seqs['img'].str.contains(img_name)]\n",
    "        if match.shape[0] > 0:\n",
    "            match = match.reset_index(drop = True)\n",
    "            labels = match.label.unique()\n",
    "            for label in labels:\n",
    "                seq_match = df_seqs[df_seqs['label'].str.contains(label)]\n",
    "                seq_match = seq_match.reset_index(drop = True)\n",
    "                if seq_match.shape[0] >= seq_size - 1:\n",
    "                    res = seq_match.sample(seq_size - 1).reset_index(drop = True)\n",
    "                    img_names = [\"/usb/seq_data_for_mit_code/\" + img_name + '.JPG']\n",
    "                    seg_names = [\"new_train_noBack_annotations/\" + img_name + '.png']\n",
    "                    for row in res.iterrows():\n",
    "                        img_names.append(\"/usb/seq_data_for_mit_code/\" + row[1].img.split('/')[-1].replace('.icon',''))\n",
    "                        seg_names.append(\"new_train_noBack_annotations/\" + img_name + '.png')\n",
    "                    new_line = {}\n",
    "                    new_line[\"fpath_img\"], new_line[\"fpath_segm\"], new_line[\"width\"], new_line[\"height\"] = \\\n",
    "                                img_names, seg_names, 600, 400\n",
    "                    json.dump(new_line, fw)\n",
    "                    fw.write('\\n')\n",
    "                    seq_counts += 1\n"
   ]
  },
  {
   "cell_type": "markdown",
   "metadata": {},
   "source": [
    "## get mit format data for sequences with size 2 to 10"
   ]
  },
  {
   "cell_type": "code",
   "execution_count": 3,
   "metadata": {},
   "outputs": [],
   "source": [
    "def format_seq(inputfile, length):\n",
    "    with open(inputfile, \"r\") as f_r, open(\"cct_seq_\" + str(length), 'w') as f_cct, open(\"mit_seq_\" + str(length), 'w') as f_mit:\n",
    "        sequence_data = f_r.readlines()\n",
    "        write = csv.writer(f_cct, delimiter = ' ')\n",
    "        for line in sequence_data:\n",
    "            new_line = json.loads(line)\n",
    "            new_line['fpath_img'] = new_line['fpath_img'][:length]\n",
    "            new_line['fpath_segm'] = new_line['fpath_segm'][:length]\n",
    "            json.dump(new_line, f_mit)\n",
    "            f_mit.write('\\n')\n",
    "            \n",
    "            write.writerow(new_line['fpath_img'][:length])\n",
    "            "
   ]
  },
  {
   "cell_type": "code",
   "execution_count": 4,
   "metadata": {},
   "outputs": [],
   "source": [
    "for i in range(2, 11):\n",
    "    format_seq(\"data/seqsWLen10WOneAnn.odgt\", i)"
   ]
  },
  {
   "cell_type": "code",
   "execution_count": 15,
   "metadata": {},
   "outputs": [
    {
     "data": {
      "text/plain": [
       "['/usb/seq_data_for_mit_code/cac01124.06.JPG',\n",
       " '/usb/seq_data_for_mit_code/cac01126.05.JPG']"
      ]
     },
     "execution_count": 15,
     "metadata": {},
     "output_type": "execute_result"
    }
   ],
   "source": [
    "line['fpath_img'][:2]"
   ]
  },
  {
   "cell_type": "code",
   "execution_count": 30,
   "metadata": {},
   "outputs": [
    {
     "data": {
      "text/plain": [
       "1216"
      ]
     },
     "execution_count": 30,
     "metadata": {},
     "output_type": "execute_result"
    }
   ],
   "source": [
    "len(sequence_data)"
   ]
  },
  {
   "cell_type": "code",
   "execution_count": null,
   "metadata": {},
   "outputs": [],
   "source": []
  }
 ],
 "metadata": {
  "kernelspec": {
   "display_name": "Python 3",
   "language": "python",
   "name": "python3"
  },
  "language_info": {
   "codemirror_mode": {
    "name": "ipython",
    "version": 3
   },
   "file_extension": ".py",
   "mimetype": "text/x-python",
   "name": "python",
   "nbconvert_exporter": "python",
   "pygments_lexer": "ipython3",
   "version": "3.6.9"
  }
 },
 "nbformat": 4,
 "nbformat_minor": 4
}
