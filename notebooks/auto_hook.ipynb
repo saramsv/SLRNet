{
 "cells": [
  {
   "cell_type": "code",
   "execution_count": null,
   "id": "employed-location",
   "metadata": {},
   "outputs": [],
   "source": [
    "import yaml\n",
    "# System libs\n",
    "import os, csv, torch, numpy, scipy.io, PIL.Image, torchvision.transforms\n",
    "import torch.nn as nn\n",
    "\n",
    "# Our libs\n",
    "from semseg.models import ModelBuilder, SegmentationModule\n",
    "from semseg.utils import colorEncode\n",
    "\n",
    "colors = scipy.io.loadmat('data/mit_data/color150.mat')['colors']\n",
    "names = {}\n",
    "with open('data/mit_data/object150_info.csv') as f:\n",
    "    reader = csv.reader(f)\n",
    "    next(reader)\n",
    "    for row in reader:\n",
    "        names[int(row[0])] = row[5].split(\";\")[0]\n",
    "\n",
    "def visualize_result(img, pred, index=None):\n",
    "    # filter prediction class if requested\n",
    "    if index is not None:\n",
    "        pred = pred.copy()\n",
    "        pred[pred != index] = -1\n",
    "        print(f'{names[index+1]}:')\n",
    "        \n",
    "    # colorize prediction\n",
    "    pred_color = colorEncode(pred, colors).astype(numpy.uint8)\n",
    "\n",
    "    # aggregate images and save\n",
    "    im_vis = numpy.concatenate((img, pred_color), axis=1)\n",
    "    display(PIL.Image.fromarray(im_vis))\n",
    "    \n",
    "    \n",
    "def parse_model_config(path):\n",
    "    with open(path) as file:\n",
    "        data = yaml.load(file, Loader=yaml.FullLoader)\n",
    "    \n",
    "    encoder_path = None\n",
    "    decoder_path = None\n",
    "\n",
    "    for p in os.listdir(data['DIR']):\n",
    "        if \"encoder\" in p.lower():\n",
    "            encoder_path = \"{}/{}\".format(data['DIR'], p)\n",
    "            continue\n",
    "        if \"decoder\" in p.lower():\n",
    "            decoder_path = \"{}/{}\".format(data['DIR'], p)\n",
    "            continue\n",
    "\n",
    "    if encoder_path==None or decoder_path==None:\n",
    "        raise(\"model weights not found\")\n",
    "        \n",
    "    return data, encoder_path, decoder_path\n",
    "\n",
    "def cal_weight(tensor, l):\n",
    "    weights = [] \n",
    "    b, c, w, h = tensor.shape\n",
    "    ind = 0 # the index of the image in the sequence with gt\n",
    "    for i in range(l):\n",
    "        if i % seq_len == 0:\n",
    "            ind = i\n",
    "        weights.append(torch.sum(cos(tensor[i], tensor[ind]))/(w * h))\n",
    "    return weights\n",
    "\n",
    "'''\n",
    "def get_activation(name, activation):\n",
    "    def hook(model,input, output):\n",
    "        activation[name] = output.detach()\n",
    "    return hook\n",
    "'''"
   ]
  },
  {
   "cell_type": "code",
   "execution_count": null,
   "id": "shared-monday",
   "metadata": {},
   "outputs": [],
   "source": [
    "'''\n",
    "model_config, encoder_path, decoder_path = parse_model_config(\"config/bodypart-hrnetv2.yaml\")\n",
    "net_encoder = ModelBuilder.build_encoder(\n",
    "    arch = model_config[\"MODEL\"]['arch_encoder'],\n",
    "    fc_dim = model_config['MODEL']['fc_dim'],\n",
    "    weights = encoder_path)\n",
    "net_decoder = ModelBuilder.build_decoder(\n",
    "    arch = model_config[\"MODEL\"]['arch_decoder'],\n",
    "    fc_dim = model_config['MODEL']['fc_dim'],\n",
    "    num_class = model_config['DATASET']['num_class'],\n",
    "    weights = decoder_path,\n",
    "    use_softmax=True)\n",
    "\n",
    "crit = torch.nn.NLLLoss(ignore_index=-1)\n",
    "segmentation_module = SegmentationModule(net_encoder, net_decoder, crit)\n",
    "segmentation_module.eval()\n",
    "segmentation_module.cuda()\n",
    "'''\n",
    "print()"
   ]
  },
  {
   "cell_type": "code",
   "execution_count": null,
   "id": "controlling-seven",
   "metadata": {},
   "outputs": [],
   "source": [
    "# Network Builders\n",
    "net_encoder = ModelBuilder.build_encoder(\n",
    "    arch='hrnetv2',\n",
    "    fc_dim=2048,\n",
    "    weights='ckpt/bodypart-hrnetv2-c1/encoder_epoch_30.pth')\n",
    "net_decoder = ModelBuilder.build_decoder(\n",
    "    arch='c1',\n",
    "    fc_dim=2048,\n",
    "    num_class=150,\n",
    "    weights='ckpt/bodypart-hrnetv2-c1/encoder_epoch_30.pth',\n",
    "    use_softmax=True)\n",
    "\n",
    "crit = torch.nn.NLLLoss(ignore_index=-1)\n",
    "segmentation_module = SegmentationModule(net_encoder, net_decoder, crit, batch_size=2)\n",
    "segmentation_module.eval();\n",
    "# segmentation_module.cuda();"
   ]
  },
  {
   "cell_type": "code",
   "execution_count": null,
   "id": "coated-movie",
   "metadata": {},
   "outputs": [],
   "source": [
    "len(tmp)"
   ]
  },
  {
   "cell_type": "code",
   "execution_count": null,
   "id": "discrete-columbia",
   "metadata": {},
   "outputs": [],
   "source": []
  },
  {
   "cell_type": "code",
   "execution_count": null,
   "id": "false-capability",
   "metadata": {},
   "outputs": [],
   "source": [
    "cos = nn.CosineSimilarity(dim=0, eps=1e-6)"
   ]
  },
  {
   "cell_type": "code",
   "execution_count": null,
   "id": "after-above",
   "metadata": {},
   "outputs": [],
   "source": [
    "for name, m in segmentation_module.encoder.named_children():\n",
    "    print(name, m)"
   ]
  },
  {
   "cell_type": "code",
   "execution_count": null,
   "id": "square-toddler",
   "metadata": {},
   "outputs": [],
   "source": [
    "hidden_layer_names = ['cbr', 'conv_last', 'cbr']"
   ]
  },
  {
   "cell_type": "code",
   "execution_count": null,
   "id": "special-session",
   "metadata": {},
   "outputs": [],
   "source": [
    "print(\"{}\".format(\"hello\"))"
   ]
  },
  {
   "cell_type": "code",
   "execution_count": 1,
   "id": "apart-baseball",
   "metadata": {},
   "outputs": [],
   "source": [
    "a = [1,2,3]\n",
    "b = [4,5,6]\n",
    "c = [1,2,3]\n",
    "\n",
    "d = [a,b,c]\n",
    "\n",
    "# zf = zip(a,b,c)\n",
    "zf = zip(*d)"
   ]
  },
  {
   "cell_type": "code",
   "execution_count": 2,
   "id": "dressed-graph",
   "metadata": {},
   "outputs": [
    {
     "data": {
      "text/plain": [
       "[1, 2, 3, 4, 5, 6]"
      ]
     },
     "execution_count": 2,
     "metadata": {},
     "output_type": "execute_result"
    }
   ],
   "source": [
    "a.extend(b)\n",
    "a"
   ]
  },
  {
   "cell_type": "code",
   "execution_count": 4,
   "id": "psychological-bullet",
   "metadata": {},
   "outputs": [
    {
     "data": {
      "text/plain": [
       "[1, 2, 3, 4, 5, 6, 10]"
      ]
     },
     "execution_count": 4,
     "metadata": {},
     "output_type": "execute_result"
    }
   ],
   "source": [
    "a.append(10)\n",
    "a"
   ]
  },
  {
   "cell_type": "code",
   "execution_count": null,
   "id": "wired-salad",
   "metadata": {},
   "outputs": [],
   "source": [
    "for val in zf:\n",
    "    print(val)"
   ]
  },
  {
   "cell_type": "code",
   "execution_count": null,
   "id": "controversial-anthropology",
   "metadata": {},
   "outputs": [],
   "source": [
    "activation = {}\n",
    "for name, m in segmentation_module.decoder.named_children():\n",
    "    if name in hidden_layer_names:\n",
    "        m.register_forward_hook(get_activation('{}'.format(name), activation))\n",
    "        print(name)"
   ]
  },
  {
   "cell_type": "code",
   "execution_count": null,
   "id": "photographic-brazilian",
   "metadata": {},
   "outputs": [],
   "source": [
    "def get_activation(name, activation):\n",
    "    def hook(model,input, output):\n",
    "        try: \n",
    "            activation[name] = output.detach()\n",
    "        except:\n",
    "            activation[name] = []\n",
    "            for out in output:\n",
    "                activation[name].append(out.detach())\n",
    "    return hook\n",
    "\n",
    "def register_hooks(model, module_names, activation, show=False):\n",
    "    for name, module in model.named_children():\n",
    "        if name in module_names:\n",
    "            module.register_forward_hook(get_activation('{}'.format(name), activation))\n",
    "            if show: print(name)"
   ]
  },
  {
   "cell_type": "code",
   "execution_count": null,
   "id": "structured-courage",
   "metadata": {},
   "outputs": [],
   "source": [
    "activation = {}\n",
    "for name, module in segmentation_module.encoder.named_children():\n",
    "    print(name)\n",
    "    module.register_forward_hook(get_activation('{}'.format(name), activation))\n",
    "\n",
    "tmp = segmentation_module.encoder(torch.rand(6, 3, 50, 50,  device='cpu'))"
   ]
  },
  {
   "cell_type": "code",
   "execution_count": null,
   "id": "returning-tractor",
   "metadata": {},
   "outputs": [],
   "source": [
    "activation.keys()"
   ]
  },
  {
   "cell_type": "code",
   "execution_count": null,
   "id": "incorrect-teacher",
   "metadata": {},
   "outputs": [],
   "source": [
    "for val in activation['stage4']:\n",
    "    print(val.shape)"
   ]
  },
  {
   "cell_type": "code",
   "execution_count": null,
   "id": "amateur-study",
   "metadata": {},
   "outputs": [],
   "source": [
    "activation = {}\n",
    "for name, module in segmentation_module.decoder.named_children():\n",
    "    print(name)\n",
    "    module.register_forward_hook(get_activation('{}'.format(name), activation))"
   ]
  },
  {
   "cell_type": "code",
   "execution_count": null,
   "id": "progressive-luther",
   "metadata": {},
   "outputs": [],
   "source": [
    "tmp = segmentation_module.decoder(torch.rand(512, 2048, 3, 3,  device='cpu'))"
   ]
  },
  {
   "cell_type": "code",
   "execution_count": null,
   "id": "weekly-cheat",
   "metadata": {},
   "outputs": [],
   "source": [
    "#decoder.cbr.register_forward_hook(get_activation('cbr'))\n",
    "#decoder.conv_last.register_forward_hook(get_activation('conv_last'))"
   ]
  },
  {
   "cell_type": "code",
   "execution_count": null,
   "id": "sublime-spyware",
   "metadata": {},
   "outputs": [],
   "source": [
    "for name, m in segmentation_module.decoder.named_children():\n",
    "    print(name)\n",
    "    print(m)\n",
    "    print()"
   ]
  },
  {
   "cell_type": "code",
   "execution_count": null,
   "id": "assumed-undergraduate",
   "metadata": {},
   "outputs": [],
   "source": [
    "m"
   ]
  },
  {
   "cell_type": "code",
   "execution_count": null,
   "id": "bibliographic-drive",
   "metadata": {},
   "outputs": [],
   "source": [
    "encoder_weight_type = \"transition3,stage4\"\n",
    "decoder_weight_type = \"cbr,conv_last\""
   ]
  },
  {
   "cell_type": "code",
   "execution_count": null,
   "id": "twenty-philip",
   "metadata": {},
   "outputs": [],
   "source": [
    "decoder_wt = decoder_weight_type.split(',')\n",
    "decoder_wt"
   ]
  },
  {
   "cell_type": "code",
   "execution_count": null,
   "id": "fitted-pricing",
   "metadata": {},
   "outputs": [],
   "source": [
    "register_hooks(segmentation_module.decoder, decoder_wt, activation, True)"
   ]
  },
  {
   "cell_type": "code",
   "execution_count": null,
   "id": "supposed-medication",
   "metadata": {},
   "outputs": [],
   "source": [
    "encoder_wt = encoder_weight_type.split(',')\n",
    "encoder_wt"
   ]
  },
  {
   "cell_type": "code",
   "execution_count": null,
   "id": "lasting-maker",
   "metadata": {},
   "outputs": [],
   "source": [
    "\"tmp\".split(',')"
   ]
  },
  {
   "cell_type": "code",
   "execution_count": null,
   "id": "spare-danish",
   "metadata": {},
   "outputs": [],
   "source": [
    "zip([1,2],[1,2],[1,2])"
   ]
  },
  {
   "cell_type": "code",
   "execution_count": null,
   "id": "retained-milan",
   "metadata": {},
   "outputs": [],
   "source": [
    "a = torch.tensor([[1., -1.], [1., -1.]])\n",
    "b = torch.tensor([[1., -1.,2], [1., -1.,2]])\n",
    "a.shape"
   ]
  },
  {
   "cell_type": "code",
   "execution_count": null,
   "id": "white-crest",
   "metadata": {},
   "outputs": [],
   "source": [
    "b.shape"
   ]
  },
  {
   "cell_type": "code",
   "execution_count": null,
   "id": "second-cabinet",
   "metadata": {},
   "outputs": [],
   "source": [
    "c = torch.cat([a, b, a], 1)\n",
    "c.shape"
   ]
  },
  {
   "cell_type": "code",
   "execution_count": null,
   "id": "attached-pendant",
   "metadata": {},
   "outputs": [],
   "source": []
  }
 ],
 "metadata": {
  "kernelspec": {
   "display_name": "Python 3",
   "language": "python",
   "name": "python3"
  },
  "language_info": {
   "codemirror_mode": {
    "name": "ipython",
    "version": 3
   },
   "file_extension": ".py",
   "mimetype": "text/x-python",
   "name": "python",
   "nbconvert_exporter": "python",
   "pygments_lexer": "ipython3",
   "version": "3.7.7"
  }
 },
 "nbformat": 4,
 "nbformat_minor": 5
}
