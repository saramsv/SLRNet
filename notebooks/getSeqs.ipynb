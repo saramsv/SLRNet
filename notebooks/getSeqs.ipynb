{
 "cells": [
  {
   "cell_type": "code",
   "execution_count": 1,
   "metadata": {},
   "outputs": [],
   "source": [
    "import pandas as pd\n",
    "import glob\n",
    "import sys\n",
    "import json\n",
    "import csv"
   ]
  },
  {
   "cell_type": "code",
   "execution_count": 33,
   "metadata": {},
   "outputs": [],
   "source": [
    "allSeqsWithOneAnn_df = pd.read_csv(\"/data/sara/semantic-segmentation-pytorch/data/AllSeqsWithOneAnn2beCleaned\",sep=\":\", names=['path', 'label'])\n",
    "labels_df = pd.read_csv(\"/data/sara/semantic-segmentation-pytorch/data/all_image_lavel_labeled_20210211_cleaned.uniq\", sep=\":\", names=['path', 'label'])"
   ]
  },
  {
   "cell_type": "code",
   "execution_count": 2,
   "metadata": {},
   "outputs": [],
   "source": [
    "filename = '/data/sara/semantic-segmentation-pytorch/data/AllSeqsWithOneAnn2beCleaned'"
   ]
  },
  {
   "cell_type": "code",
   "execution_count": 35,
   "metadata": {},
   "outputs": [],
   "source": [
    "def label(filename): #file name is a file that each line is path: cluster-name\n",
    "    with open(filename + '_labeled', 'w') as f:\n",
    "        lines = open(filename, 'r').readlines()\n",
    "        for line in lines:\n",
    "            imgname = line.split(':')[0].split('/')[-1]\n",
    "            seqname = line.split(':')[1].strip()\n",
    "            format_ = imgname.split('.')[-1]\n",
    "            try:\n",
    "                found = labels_df[labels_df['path'] == imgname.replace('png', 'JPG')]\n",
    "                new_line = '/home/mousavi/da1/icputrd/arf/mean.js/public/sara_img/' + \\\n",
    "                            found['path'].values[0][:3] + \"/\" + found['path'].values[0].replace('JPG', format_) + \\\n",
    "                            \":\" + seqname + \"-\"+ found['label'].values[0] + \"\\n\"\n",
    "\n",
    "                f.write(new_line)\n",
    "            except:\n",
    "                pass\n",
    "    \n",
    "label(filename)"
   ]
  },
  {
   "cell_type": "code",
   "execution_count": 3,
   "metadata": {},
   "outputs": [],
   "source": [
    "def odgt_format(filename):\n",
    "    df_seqs = pd.read_csv(filename + \"_labeled.uniq\", sep=\":\", names=['img', 'label'])\n",
    "    with open(filename + \"_labeled.uniq.odgt\", \"w\") as fw:\n",
    "        for path in glob.glob(\"new_train_noBack_annotations/\" + \"*.png\"):\n",
    "            img_name = path.split(\"/\")[-1][:-4]\n",
    "            match = df_seqs[df_seqs['img'].str.contains(img_name)]\n",
    "            if match.shape[0] > 0:\n",
    "                match = match.reset_index(drop = True)\n",
    "                labels = match.label.unique()\n",
    "                #print(len(labels))\n",
    "                for label in labels:\n",
    "                    seq_match = df_seqs[df_seqs['label']==label]\n",
    "                    seq_match = seq_match.reset_index(drop = True)\n",
    "                    if seq_match.shape[0] >= 2:\n",
    "                        for row in seq_match.iterrows():\n",
    "                            img_names = [\"/usb/seq_data_for_mit_code/\" + img_name + '.JPG']\n",
    "                            seg_names = [\"new_train_noBack_annotations/\" + img_name + '.png']\n",
    "                            secon_img_name = row[1].img.split('/')[-1]\n",
    "                            if 'png' not in secon_img_name:\n",
    "                                img_names.append(\"/usb/seq_data_for_mit_code/\" + row[1].img.split('/')[-1].replace('.icon',''))\n",
    "                                seg_names.append(\"new_train_noBack_annotations/\" + img_name + '.png')\n",
    "                            if len(list(set(img_names))) == 2 and len(list(set(seg_names))):\n",
    "                                new_line = {}\n",
    "                                new_line[\"fpath_img\"], new_line[\"fpath_segm\"], new_line[\"width\"], new_line[\"height\"] = \\\n",
    "                                        img_names, seg_names, 600, 400\n",
    "                                json.dump(new_line, fw)\n",
    "                                fw.write('\\n')\n",
    "                            \n",
    "            "
   ]
  },
  {
   "cell_type": "code",
   "execution_count": 4,
   "metadata": {},
   "outputs": [],
   "source": [
    "odgt_format(filename)"
   ]
  },
  {
   "cell_type": "code",
   "execution_count": 2,
   "metadata": {},
   "outputs": [],
   "source": [
    "df_seqs = pd.read_csv(\"data/sequence_data/AllMnaullyImgLevelLabeledSeqsWith10SBPPlusAllSeqsWithOneAnn2beCleaned\", \n",
    "                      sep=\":\", \n",
    "                      names=['img', 'label'])\n",
    "seq_size = 10"
   ]
  },
  {
   "cell_type": "markdown",
   "metadata": {},
   "source": [
    "## get sequences with len 10 in flat format"
   ]
  },
  {
   "cell_type": "code",
   "execution_count": 39,
   "metadata": {
    "scrolled": true
   },
   "outputs": [],
   "source": [
    "sys.stdout = open(\"seqsWLen10WOneAnnFlat\", \"w\")\n",
    "res_df = pd.DataFrame()\n",
    "seq_counts = 0\n",
    "for path in glob.glob(\"new_train_noBack_annotations/\" + \"*.png\"):\n",
    "    img_name = path.split(\"/\")[-1][:-4]\n",
    "    match = df_seqs[df_seqs['img'].str.contains(img_name)]\n",
    "    if match.shape[0] > 0:\n",
    "        match = match.reset_index(drop = True)\n",
    "        labels = match.label.unique()\n",
    "        for label in labels:\n",
    "            seq_match = df_seqs[df_seqs['label'].str.contains(label)]\n",
    "            seq_match = seq_match.reset_index(drop = True)\n",
    "            if seq_match.shape[0] >= seq_size - 1:\n",
    "                print(\"/usb/seq_data_for_mit_code/{}.JPG: new_train_noBack_annotations/{}.png\".\n",
    "                     format(img_name, img_name))\n",
    "                res = seq_match.sample(seq_size - 1).reset_index(drop = True)\n",
    "                for row in res.iterrows():\n",
    "                    print(\"/usb/seq_data_for_mit_code/{}: new_train_noBack_annotations/{}.png\".\n",
    "                          format(row[1].img.split('/')[-1].replace('.icon',''), img_name))\n",
    "                seq_counts += 1\n",
    "\n"
   ]
  },
  {
   "cell_type": "markdown",
   "metadata": {},
   "source": [
    "## get sequences with len 10 in odgt format"
   ]
  },
  {
   "cell_type": "code",
   "execution_count": 5,
   "metadata": {},
   "outputs": [],
   "source": [
    "with open(\"seqsWLen10WOneAnn.odgt\", \"w\") as fw:\n",
    "    seq_counts = 0\n",
    "    for path in glob.glob(\"new_train_noBack_annotations/\" + \"*.png\"):\n",
    "        img_name = path.split(\"/\")[-1][:-4]\n",
    "        match = df_seqs[df_seqs['img'].str.contains(img_name)]\n",
    "        if match.shape[0] > 0:\n",
    "            match = match.reset_index(drop = True)\n",
    "            labels = match.label.unique()\n",
    "            for label in labels:\n",
    "                seq_match = df_seqs[df_seqs['label'].str.contains(label)]\n",
    "                seq_match = seq_match.reset_index(drop = True)\n",
    "                if seq_match.shape[0] >= seq_size - 1:\n",
    "                    res = seq_match.sample(seq_size - 1).reset_index(drop = True)\n",
    "                    img_names = [\"/usb/seq_data_for_mit_code/\" + img_name + '.JPG']\n",
    "                    seg_names = [\"new_train_noBack_annotations/\" + img_name + '.png']\n",
    "                    for row in res.iterrows():\n",
    "                        img_names.append(\"/usb/seq_data_for_mit_code/\" + row[1].img.split('/')[-1].replace('.icon',''))\n",
    "                        seg_names.append(\"new_train_noBack_annotations/\" + img_name + '.png')\n",
    "                    new_line = {}\n",
    "                    new_line[\"fpath_img\"], new_line[\"fpath_segm\"], new_line[\"width\"], new_line[\"height\"] = \\\n",
    "                                img_names, seg_names, 600, 400\n",
    "                    json.dump(new_line, fw)\n",
    "                    fw.write('\\n')\n",
    "                    seq_counts += 1\n"
   ]
  },
  {
   "cell_type": "markdown",
   "metadata": {},
   "source": [
    "## get mit format data for sequences with size 2 to 10"
   ]
  },
  {
   "cell_type": "code",
   "execution_count": 17,
   "metadata": {},
   "outputs": [],
   "source": [
    "def format_seq(inputfile, length):\n",
    "    with open(inputfile, \"r\") as f_r, open(\"new_cct_seq_\" + str(length), 'w') as f_cct, open(\"new_mit_seq_\" + str(length), 'w') as f_mit:\n",
    "        sequence_data = f_r.readlines()\n",
    "        write = csv.writer(f_cct, delimiter = ' ')\n",
    "        for line in sequence_data:\n",
    "            new_line = json.loads(line)\n",
    "            new_line['fpath_img'] = new_line['fpath_img'][:length]\n",
    "            new_line['fpath_segm'] = new_line['fpath_segm'][:length]\n",
    "            json.dump(new_line, f_mit)\n",
    "            f_mit.write('\\n')\n",
    "            \n",
    "            write.writerow(new_line['fpath_img'][:length])\n",
    "            "
   ]
  },
  {
   "cell_type": "code",
   "execution_count": 4,
   "metadata": {},
   "outputs": [],
   "source": [
    "for i in range(2, 11):\n",
    "    format_seq(\"data/seqsWLen10WOneAnn.odgt\", i)"
   ]
  },
  {
   "cell_type": "code",
   "execution_count": null,
   "metadata": {},
   "outputs": [],
   "source": []
  },
  {
   "cell_type": "code",
   "execution_count": 37,
   "metadata": {},
   "outputs": [
    {
     "name": "stdout",
     "output_type": "stream",
     "text": [
      "27800129.10.JPG\n",
      "a4800127.23.JPG\n"
     ]
    }
   ],
   "source": [
    "col_names = [\"seq_{}\".format(i) for i in range(1, 11)]\n",
    "df_new_labeled_seq = pd.read_csv('newly_labaled_imgs_to_fix_imbalance_in_seq_format', sep=\" \", names=col_names)\n",
    "df_new_labeled_img = pd.read_csv('newly_labaled_imgs_to_fix_imbalance', names=[col_names[0]])\n",
    "newly_labaled_imgs = df_new_labeled_img.seq_1.values\n",
    "with open(\"newly_labaled_imgs_to_fix_imbalance_in_seq_format.odgt\", \"w\") as fw:\n",
    "    for img in newly_labaled_imgs:\n",
    "        try:\n",
    "            match = df_new_labeled_seq[df_new_labeled_seq.seq_1 == img]\n",
    "            img_names = list(match.values[0])\n",
    "            img_names = [\"/usb/seq_data_for_mit_code/\" + i for i in img_names]\n",
    "            seg_names = [\"new_train_noBack_annotations/\" + img.replace('JPG', 'png')] * 10\n",
    "            new_line = {}\n",
    "            new_line[\"fpath_img\"], new_line[\"fpath_segm\"], new_line[\"width\"], new_line[\"height\"] = \\\n",
    "                img_names, seg_names, 600, 400\n",
    "            json.dump(new_line, fw)\n",
    "            fw.write('\\n')\n",
    "        except:\n",
    "            print(img)"
   ]
  },
  {
   "cell_type": "code",
   "execution_count": 38,
   "metadata": {},
   "outputs": [],
   "source": [
    "for i in range(2, 11):\n",
    "    format_seq(\"newly_labaled_imgs_to_fix_imbalance_in_seq_format.odgt\", i)"
   ]
  },
  {
   "cell_type": "code",
   "execution_count": 33,
   "metadata": {},
   "outputs": [
    {
     "data": {
      "text/plain": [
       "['new_train_noBack_annotations/00b00329.13.png',\n",
       " 'new_train_noBack_annotations/00b00329.13.png',\n",
       " 'new_train_noBack_annotations/00b00329.13.png',\n",
       " 'new_train_noBack_annotations/00b00329.13.png',\n",
       " 'new_train_noBack_annotations/00b00329.13.png',\n",
       " 'new_train_noBack_annotations/00b00329.13.png',\n",
       " 'new_train_noBack_annotations/00b00329.13.png',\n",
       " 'new_train_noBack_annotations/00b00329.13.png',\n",
       " 'new_train_noBack_annotations/00b00329.13.png',\n",
       " 'new_train_noBack_annotations/00b00329.13.png']"
      ]
     },
     "execution_count": 33,
     "metadata": {},
     "output_type": "execute_result"
    }
   ],
   "source": [
    "seg_names"
   ]
  },
  {
   "cell_type": "code",
   "execution_count": null,
   "metadata": {},
   "outputs": [],
   "source": []
  }
 ],
 "metadata": {
  "kernelspec": {
   "display_name": "Python 3",
   "language": "python",
   "name": "python3"
  },
  "language_info": {
   "codemirror_mode": {
    "name": "ipython",
    "version": 3
   },
   "file_extension": ".py",
   "mimetype": "text/x-python",
   "name": "python",
   "nbconvert_exporter": "python",
   "pygments_lexer": "ipython3",
   "version": "3.7.7"
  }
 },
 "nbformat": 4,
 "nbformat_minor": 4
}
