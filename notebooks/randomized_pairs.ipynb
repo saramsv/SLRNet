{
 "cells": [
  {
   "cell_type": "markdown",
   "id": "japanese-sharp",
   "metadata": {},
   "source": [
    "Changeing the second image in the pair sets that we used to train SLRNet to a random image"
   ]
  },
  {
   "cell_type": "code",
   "execution_count": 128,
   "id": "central-broad",
   "metadata": {},
   "outputs": [],
   "source": [
    "decom_img_dir = '/usb/sara_img/'\n",
    "current_pair_file = \"/data/sara/semantic-segmentation-pytorch/data/AllSeqsWithOneAnn2beCleaned_labeled.uniq.odgt.labeled_relevent\"\n",
    "dest_filename = \"/data/sara/semantic-segmentation-pytorch/data/randomized_pairs.odgt\"\n",
    "paths_to_imgs_with_right_size = '/data/sara/semantic-segmentation-pytorch/15krandImgsRightSize'"
   ]
  },
  {
   "cell_type": "code",
   "execution_count": 129,
   "id": "isolated-powell",
   "metadata": {},
   "outputs": [],
   "source": [
    "import glob\n",
    "import random\n",
    "import json"
   ]
  },
  {
   "cell_type": "code",
   "execution_count": 130,
   "id": "prepared-sharing",
   "metadata": {},
   "outputs": [],
   "source": [
    "files = open(paths_to_imgs_with_right_size,'r').readlines() #glob.glob(decom_img_dir + \"*.JPG\")"
   ]
  },
  {
   "cell_type": "code",
   "execution_count": 131,
   "id": "controlled-shark",
   "metadata": {},
   "outputs": [],
   "source": [
    "data = open(current_pair_file, 'r').readlines()"
   ]
  },
  {
   "cell_type": "code",
   "execution_count": 132,
   "id": "solar-delaware",
   "metadata": {},
   "outputs": [],
   "source": [
    "with open(dest_filename, 'w') as fp:\n",
    "    for ind, line in enumerate(data):\n",
    "        row = json.loads(line)\n",
    "        row['fpath_img'][1] = files[ind].strip()\n",
    "        json.dump(row, fp)\n",
    "        fp.write(\"\\n\")\n",
    "    "
   ]
  },
  {
   "cell_type": "code",
   "execution_count": null,
   "id": "horizontal-iraqi",
   "metadata": {},
   "outputs": [],
   "source": []
  }
 ],
 "metadata": {
  "kernelspec": {
   "display_name": "Python 3",
   "language": "python",
   "name": "python3"
  },
  "language_info": {
   "codemirror_mode": {
    "name": "ipython",
    "version": 3
   },
   "file_extension": ".py",
   "mimetype": "text/x-python",
   "name": "python",
   "nbconvert_exporter": "python",
   "pygments_lexer": "ipython3",
   "version": "3.7.7"
  }
 },
 "nbformat": 4,
 "nbformat_minor": 5
}
