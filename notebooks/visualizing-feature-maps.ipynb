{
 "cells": [
  {
   "cell_type": "code",
   "execution_count": null,
   "id": "mediterranean-nickel",
   "metadata": {
    "scrolled": true
   },
   "outputs": [],
   "source": [
    "import torch\n",
    "import torch.nn as nn\n",
    "import torch.optim as optim\n",
    "import torch.nn.functional as F\n",
    "from torch.utils.data import DataLoader\n",
    "\n",
    "import torchvision.transforms as transforms\n",
    "import torchvision.datasets as datasets\n",
    "\n",
    "import matplotlib.pyplot as plt\n",
    "\n",
    "class MyModel(nn.Module):\n",
    "    def __init__(self):\n",
    "        super(MyModel, self).__init__()\n",
    "        self.conv1 = nn.Conv2d(1, 3, 3, 1, 1)\n",
    "        self.pool1 = nn.MaxPool2d(2)\n",
    "        self.conv2 = nn.Conv2d(3, 6, 3, 1, 1)\n",
    "        self.pool2 = nn.MaxPool2d(2)\n",
    "        \n",
    "        self.conv_trans1 = nn.ConvTranspose2d(6, 3, 4, 2, 1)\n",
    "        self.conv_trans2 = nn.ConvTranspose2d(3, 1, 4, 2, 1)\n",
    "        \n",
    "    def forward(self, x):\n",
    "        x = F.relu(self.pool1(self.conv1(x)))\n",
    "        x = F.relu(self.pool2(self.conv2(x)))        \n",
    "        x = F.relu(self.conv_trans1(x))\n",
    "        x = self.conv_trans2(x)\n",
    "        return x\n",
    "\n"
   ]
  },
  {
   "cell_type": "code",
   "execution_count": null,
   "id": "gross-russia",
   "metadata": {},
   "outputs": [],
   "source": [
    "import torchvision\n",
    "\n",
    "n_epochs = 3\n",
    "batch_size_train = 8\n",
    "batch_size_test = 1000\n",
    "learning_rate = 0.01\n",
    "momentum = 0.5\n",
    "log_interval = 10\n",
    "\n",
    "random_seed = 1\n",
    "\n",
    "train_loader = torch.utils.data.DataLoader(\n",
    "  torchvision.datasets.MNIST('/files/', train=True, download=True,\n",
    "                             transform=torchvision.transforms.Compose([\n",
    "                               torchvision.transforms.ToTensor(),\n",
    "                               torchvision.transforms.Normalize(\n",
    "                                 (0.1307,), (0.3081,))\n",
    "                             ])),\n",
    "  batch_size=batch_size_train, shuffle=True)"
   ]
  },
  {
   "cell_type": "code",
   "execution_count": null,
   "id": "weird-project",
   "metadata": {
    "scrolled": true
   },
   "outputs": [],
   "source": [
    "model = MyModel()\n",
    "criterion = nn.BCEWithLogitsLoss()\n",
    "optimizer = optim.Adam(model.parameters(), lr=1e-3)\n",
    "\n",
    "epochs = 1\n",
    "for epoch in range(epochs):\n",
    "    for batch_idx, (data, target) in enumerate(train_loader):\n",
    "        optimizer.zero_grad()\n",
    "        output = model(data)\n",
    "        loss = criterion(output, data)\n",
    "        loss.backward()\n",
    "        optimizer.step()\n",
    "        \n",
    "    print('Epoch {}, Batch idx {}, loss {}'.format(\n",
    "        epoch, batch_idx, loss.item()))\n",
    "\n"
   ]
  },
  {
   "cell_type": "code",
   "execution_count": null,
   "id": "imperial-restaurant",
   "metadata": {},
   "outputs": [],
   "source": [
    "print(model)"
   ]
  },
  {
   "cell_type": "code",
   "execution_count": null,
   "id": "sufficient-feedback",
   "metadata": {},
   "outputs": [],
   "source": [
    "def normalize_output(img):\n",
    "    img = img - img.min()\n",
    "    img = img / img.max()\n",
    "    return img\n",
    "\n",
    "'''\n",
    "# Plot some images\n",
    "idx = torch.randint(0, output.size(0), ())\n",
    "pred = normalize_output(output[idx, 0])\n",
    "img = data[idx, 0]\n",
    "\n",
    "fig, axarr = plt.subplots(1, 2)\n",
    "axarr[0].imshow(img.detach().numpy())\n",
    "axarr[1].imshow(pred.detach().numpy())\n",
    "'''\n",
    "# Visualize feature maps\n",
    "activation = {}\n",
    "def get_activation(name):\n",
    "    def hook(model,input, output):\n",
    "        activation[name] = output.detach()\n",
    "    return hook\n",
    "\n",
    "model.conv1.register_forward_hook(get_activation('conv1'))\n",
    "model.conv2.register_forward_hook(get_activation('conv2'))\n",
    "model.conv_trans1.register_forward_hook(get_activation('conv_trans1'))\n",
    "model.pool1.register_forward_hook(get_activation('pool1'))"
   ]
  },
  {
   "cell_type": "code",
   "execution_count": null,
   "id": "sacred-parliament",
   "metadata": {
    "scrolled": true
   },
   "outputs": [],
   "source": [
    "dataset = torchvision.datasets.MNIST('/files/', train=True, download=True,\n",
    "                             transform=torchvision.transforms.Compose([\n",
    "                               torchvision.transforms.ToTensor(),\n",
    "                               torchvision.transforms.Normalize(\n",
    "                                 (0.1307,), (0.3081,))\n",
    "                             ]))\n",
    "\n",
    "'''\n",
    "data, _ = dataset[1]\n",
    "data.unsqueeze_(0)\n",
    "output = model(data)\n",
    "\n",
    "act = activation['conv1'].squeeze()\n",
    "fig, axarr = plt.subplots(act.size(0))\n",
    "for idx in range(act.size(0)):\n",
    "    axarr[idx].imshow(act[idx])\n",
    "'''"
   ]
  },
  {
   "cell_type": "code",
   "execution_count": null,
   "id": "relevant-street",
   "metadata": {},
   "outputs": [],
   "source": [
    "import numpy as np\n",
    "m = nn.ReLU()\n",
    "def convert_to_ones(inp):\n",
    "    #relu_inp = m(inp)\n",
    "    inp[inp <= 100] = 0\n",
    "    inp[inp > 100] = 1\n",
    "    return inp"
   ]
  },
  {
   "cell_type": "code",
   "execution_count": null,
   "id": "handled-multiple",
   "metadata": {
    "scrolled": true
   },
   "outputs": [],
   "source": [
    "def diff(name, indx1, indx2):\n",
    "    def convert(index, name):\n",
    "        data, _ = dataset[index]\n",
    "        data.unsqueeze_(0)\n",
    "        output = model(data)\n",
    "        act = activation[name].squeeze()\n",
    "        fig, axarr = plt.subplots(1)\n",
    "        tensor = act[0]\n",
    "        for idx in range(1, act.size(0)):\n",
    "            tensor += act[idx]\n",
    "        #tensor = convert_to_ones(tensor)\n",
    "        plt.imshow(tensor)\n",
    "        return tensor\n",
    "    \n",
    "    tensor1 = convert(indx1, name)\n",
    "    tensor2 = convert(indx2, name)\n",
    "    intersection = torch.sum(tensor1 == tensor2).item() / (tensor1.shape[0] * tensor1.shape[1])\n",
    "    return intersection\n",
    "print(diff('conv1', 1, 4))\n",
    "print(diff('conv2', 1, 4))\n",
    "print(diff('conv_trans1', 1, 4))\n",
    "print(diff('pool1', 1, 4))"
   ]
  },
  {
   "cell_type": "markdown",
   "id": "fallen-brazil",
   "metadata": {},
   "source": [
    "# Using a classifier network"
   ]
  },
  {
   "cell_type": "code",
   "execution_count": null,
   "id": "stretch-montgomery",
   "metadata": {},
   "outputs": [],
   "source": [
    "class Net(nn.Module):\n",
    "    def __init__(self):\n",
    "        super(Net, self).__init__()\n",
    "        self.conv1 = nn.Conv2d(1, 10, kernel_size=5)\n",
    "        self.conv2 = nn.Conv2d(10, 20, kernel_size=5)\n",
    "        self.conv2_drop = nn.Dropout2d()\n",
    "        self.fc1 = nn.Linear(320, 50)\n",
    "        self.fc2 = nn.Linear(50, 10)\n",
    "\n",
    "    def forward(self, x):\n",
    "        x = F.relu(F.max_pool2d(self.conv1(x), 2))\n",
    "        x = F.relu(F.max_pool2d(self.conv2_drop(self.conv2(x)), 2))\n",
    "        #print(x.shape)\n",
    "        x = x.view(-1, 320)\n",
    "        x = F.relu(self.fc1(x))\n",
    "        x = F.dropout(x, training=self.training)\n",
    "        x = self.fc2(x)\n",
    "        return F.log_softmax(x)\n",
    "    \n",
    "network = Net()\n",
    "optimizer = optim.SGD(network.parameters(), lr=learning_rate,\n",
    "                      momentum=momentum)\n",
    "\n",
    "train_losses = []\n",
    "train_counter = []\n",
    "test_losses = []\n",
    "test_counter = [i*len(train_loader.dataset) for i in range(n_epochs + 1)]\n",
    "\n",
    "n_epochs = 3\n",
    "batch_size_train = 64\n",
    "batch_size_test = 1000\n",
    "learning_rate = 0.01\n",
    "momentum = 0.5\n",
    "log_interval = 10\n",
    "\n",
    "random_seed = 1\n",
    "torch.backends.cudnn.enabled = False\n",
    "torch.manual_seed(random_seed)\n",
    "train_loader = torch.utils.data.DataLoader(\n",
    "  torchvision.datasets.MNIST('/files/', train=True, download=True,\n",
    "                             transform=torchvision.transforms.Compose([\n",
    "                               torchvision.transforms.ToTensor(),\n",
    "                               torchvision.transforms.Normalize(\n",
    "                                 (0.1307,), (0.3081,))\n",
    "                             ])),\n",
    "  batch_size=batch_size_train, shuffle=True)\n",
    "\n",
    "test_loader = torch.utils.data.DataLoader(\n",
    "  torchvision.datasets.MNIST('/files/', train=False, download=True,\n",
    "                             transform=torchvision.transforms.Compose([\n",
    "                               torchvision.transforms.ToTensor(),\n",
    "                               torchvision.transforms.Normalize(\n",
    "                                 (0.1307,), (0.3081,))\n",
    "                             ])),\n",
    "  batch_size=batch_size_test, shuffle=True)\n",
    "\n",
    "def train(epoch):\n",
    "    network.train()\n",
    "    for batch_idx, (data, target) in enumerate(train_loader):\n",
    "        optimizer.zero_grad()\n",
    "        output = network(data)\n",
    "        loss = F.nll_loss(output, target)\n",
    "        loss.backward()\n",
    "        optimizer.step()\n",
    "        if batch_idx % log_interval == 0:\n",
    "            print('Train Epoch: {} [{}/{} ({:.0f}%)]\\tLoss: {:.6f}'.format(\n",
    "            epoch, batch_idx * len(data), len(train_loader.dataset),\n",
    "            100. * batch_idx / len(train_loader), loss.item()))\n",
    "            train_losses.append(loss.item())\n",
    "            train_counter.append(\n",
    "            (batch_idx*64) + ((epoch-1)*len(train_loader.dataset)))\n",
    "            torch.save(network.state_dict(), 'results/model.pth')\n",
    "            torch.save(optimizer.state_dict(), 'results/optimizer.pth')\n",
    "    \n",
    "\n",
    "def test():\n",
    "    network.eval()\n",
    "    test_loss = 0\n",
    "    correct = 0\n",
    "    with torch.no_grad():\n",
    "        for data, target in test_loader:\n",
    "            output = network(data)\n",
    "            test_loss += F.nll_loss(output, target, size_average=False).item()\n",
    "            pred = output.data.max(1, keepdim=True)[1]\n",
    "            correct += pred.eq(target.data.view_as(pred)).sum()\n",
    "            test_loss /= len(test_loader.dataset)\n",
    "            test_losses.append(test_loss)\n",
    "            print('\\nTest set: Avg. loss: {:.4f}, Accuracy: {}/{} ({:.0f}%)\\n'.format(test_loss, correct, len(test_loader.dataset),100. * correct / len(test_loader.dataset)))\n",
    "\n"
   ]
  },
  {
   "cell_type": "code",
   "execution_count": null,
   "id": "addressed-vegetation",
   "metadata": {
    "scrolled": true
   },
   "outputs": [],
   "source": [
    "test()\n",
    "for epoch in range(1, n_epochs + 1):\n",
    "    train(epoch)\n",
    "    test()"
   ]
  },
  {
   "cell_type": "code",
   "execution_count": null,
   "id": "promotional-philadelphia",
   "metadata": {},
   "outputs": [],
   "source": [
    "def convert_to_classid(inp, class_id):\n",
    "    inp[inp <= 100] = 0\n",
    "    inp[inp > 100] = class_id * 10\n",
    "    return inp\n",
    "\n",
    "def diff2(name, indx1, indx2):\n",
    "    def convert(index, name):\n",
    "        data, _ = dataset[index]\n",
    "        data.unsqueeze_(0)\n",
    "        output = network(data)\n",
    "        act = activation[name].squeeze()\n",
    "        fig, axarr = plt.subplots(1)\n",
    "        tensor = act[0]\n",
    "        #for idx in range(1, act.size(0)):\n",
    "        #    tensor += act[idx]\n",
    "        #tensor = convert_to_ones(tensor)\n",
    "        plt.imshow(tensor)\n",
    "        return tensor\n",
    "    \n",
    "    tensor1 = convert(indx1, name)\n",
    "    tensor2 = convert(indx2, name)\n",
    "    intersection = torch.sum(tensor1 == tensor2).item() / (tensor1.shape[0] * tensor1.shape[1])\n",
    "    return intersection"
   ]
  },
  {
   "cell_type": "code",
   "execution_count": null,
   "id": "robust-sigma",
   "metadata": {},
   "outputs": [],
   "source": [
    "def normalize_output(img):\n",
    "    img = img - img.min()\n",
    "    img = img / img.max()\n",
    "    return img\n",
    "\n",
    "# Visualize feature maps\n",
    "activation = {}\n",
    "def get_activation(name):\n",
    "    def hook(network,input, output):\n",
    "        activation[name] = output.detach()\n",
    "    return hook\n",
    "\n",
    "network.conv1.register_forward_hook(get_activation('conv1'))\n",
    "network.conv2.register_forward_hook(get_activation('conv2'))\n",
    "network.conv2_drop.register_forward_hook(get_activation('conv2_drop'))\n",
    "network.fc1.register_forward_hook(get_activation('fc1'))\n",
    "network.fc2.register_forward_hook(get_activation('fc2'))"
   ]
  },
  {
   "cell_type": "code",
   "execution_count": null,
   "id": "canadian-serum",
   "metadata": {},
   "outputs": [],
   "source": []
  },
  {
   "cell_type": "code",
   "execution_count": null,
   "id": "domestic-bishop",
   "metadata": {
    "scrolled": false
   },
   "outputs": [],
   "source": [
    "ind1 = 1\n",
    "ind2 = 21\n",
    "print(diff2('conv1', ind1, ind2))\n",
    "print(diff2('conv2', ind1, ind2))\n",
    "print(diff2('conv2_drop', ind1, ind2))\n",
    "#print(diff2('fc1', 1, 4))"
   ]
  },
  {
   "cell_type": "code",
   "execution_count": null,
   "id": "deluxe-culture",
   "metadata": {},
   "outputs": [],
   "source": [
    "data, _ = dataset[18]\n",
    "data.unsqueeze_(0)\n",
    "output = network(data)\n",
    "act = activation['conv1'].squeeze()\n",
    "fig, axarr = plt.subplots(1)\n",
    "test = act[0]\n",
    "for idx in range(1, act.size(0)):\n",
    "    test += act[idx]\n",
    "#test = convert_to_classid(test,output.argmax().item())\n",
    "plt.imshow(test)"
   ]
  },
  {
   "cell_type": "code",
   "execution_count": null,
   "id": "coordinated-court",
   "metadata": {},
   "outputs": [],
   "source": [
    "output.argmax().item()"
   ]
  },
  {
   "cell_type": "code",
   "execution_count": null,
   "id": "cultural-respondent",
   "metadata": {},
   "outputs": [],
   "source": [
    "activation.keys()"
   ]
  },
  {
   "cell_type": "code",
   "execution_count": null,
   "id": "sharp-triumph",
   "metadata": {},
   "outputs": [],
   "source": []
  },
  {
   "cell_type": "code",
   "execution_count": null,
   "id": "liable-depression",
   "metadata": {},
   "outputs": [],
   "source": [
    "act = activation['conv2'].squeeze()\n",
    "fig, axarr = plt.subplots(act.size(0))\n",
    "for idx in range(act.size(0)):\n",
    "    axarr[idx].imshow(act[idx])"
   ]
  },
  {
   "cell_type": "code",
   "execution_count": null,
   "id": "considered-pacific",
   "metadata": {},
   "outputs": [],
   "source": [
    "model.conv_trans1.register_forward_hook(get_activation('conv_trans1'))"
   ]
  },
  {
   "cell_type": "code",
   "execution_count": null,
   "id": "empty-arctic",
   "metadata": {},
   "outputs": [],
   "source": [
    "act = activation['conv_trans1'].squeeze()\n",
    "fig, axarr = plt.subplots(act.size(0))\n",
    "for idx in range(act.size(0)):\n",
    "    axarr[idx].imshow(act[idx])"
   ]
  },
  {
   "cell_type": "code",
   "execution_count": null,
   "id": "complete-czech",
   "metadata": {},
   "outputs": [],
   "source": []
  },
  {
   "cell_type": "code",
   "execution_count": null,
   "id": "dominant-inflation",
   "metadata": {},
   "outputs": [],
   "source": [
    "act = activation['pool1'].squeeze()\n",
    "fig, axarr = plt.subplots(act.size(0))\n",
    "for idx in range(act.size(0)):\n",
    "    axarr[idx].imshow(act[idx])"
   ]
  },
  {
   "cell_type": "code",
   "execution_count": null,
   "id": "enhanced-consultancy",
   "metadata": {},
   "outputs": [],
   "source": [
    "activation.keys()"
   ]
  },
  {
   "cell_type": "code",
   "execution_count": null,
   "id": "charged-emperor",
   "metadata": {},
   "outputs": [],
   "source": []
  }
 ],
 "metadata": {
  "kernelspec": {
   "display_name": "Python 3",
   "language": "python",
   "name": "python3"
  },
  "language_info": {
   "codemirror_mode": {
    "name": "ipython",
    "version": 3
   },
   "file_extension": ".py",
   "mimetype": "text/x-python",
   "name": "python",
   "nbconvert_exporter": "python",
   "pygments_lexer": "ipython3",
   "version": "3.7.7"
  }
 },
 "nbformat": 4,
 "nbformat_minor": 5
}
