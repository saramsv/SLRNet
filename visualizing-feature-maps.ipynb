{
 "cells": [
  {
   "cell_type": "code",
   "execution_count": 1,
   "id": "mediterranean-nickel",
   "metadata": {
    "scrolled": true
   },
   "outputs": [],
   "source": [
    "import torch\n",
    "import torch.nn as nn\n",
    "import torch.optim as optim\n",
    "import torch.nn.functional as F\n",
    "from torch.utils.data import DataLoader\n",
    "\n",
    "import torchvision.transforms as transforms\n",
    "import torchvision.datasets as datasets\n",
    "\n",
    "import matplotlib.pyplot as plt\n",
    "\n",
    "class MyModel(nn.Module):\n",
    "    def __init__(self):\n",
    "        super(MyModel, self).__init__()\n",
    "        self.conv1 = nn.Conv2d(1, 3, 3, 1, 1)\n",
    "        self.pool1 = nn.MaxPool2d(2)\n",
    "        self.conv2 = nn.Conv2d(3, 6, 3, 1, 1)\n",
    "        self.pool2 = nn.MaxPool2d(2)\n",
    "        \n",
    "        self.conv_trans1 = nn.ConvTranspose2d(6, 3, 4, 2, 1)\n",
    "        self.conv_trans2 = nn.ConvTranspose2d(3, 1, 4, 2, 1)\n",
    "        \n",
    "    def forward(self, x):\n",
    "        x = F.relu(self.pool1(self.conv1(x)))\n",
    "        x = F.relu(self.pool2(self.conv2(x)))        \n",
    "        x = F.relu(self.conv_trans1(x))\n",
    "        x = self.conv_trans2(x)\n",
    "        return x\n",
    "\n"
   ]
  },
  {
   "cell_type": "code",
   "execution_count": 2,
   "id": "gross-russia",
   "metadata": {},
   "outputs": [],
   "source": [
    "import torchvision\n",
    "\n",
    "n_epochs = 3\n",
    "batch_size_train = 8\n",
    "batch_size_test = 1000\n",
    "learning_rate = 0.01\n",
    "momentum = 0.5\n",
    "log_interval = 10\n",
    "\n",
    "random_seed = 1\n",
    "\n",
    "train_loader = torch.utils.data.DataLoader(\n",
    "  torchvision.datasets.MNIST('/files/', train=True, download=True,\n",
    "                             transform=torchvision.transforms.Compose([\n",
    "                               torchvision.transforms.ToTensor(),\n",
    "                               torchvision.transforms.Normalize(\n",
    "                                 (0.1307,), (0.3081,))\n",
    "                             ])),\n",
    "  batch_size=batch_size_train, shuffle=True)"
   ]
  },
  {
   "cell_type": "code",
   "execution_count": 3,
   "id": "weird-project",
   "metadata": {
    "scrolled": true
   },
   "outputs": [
    {
     "name": "stdout",
     "output_type": "stream",
     "text": [
      "Epoch 0, Batch idx 7499, loss -34129764.0\n"
     ]
    }
   ],
   "source": [
    "model = MyModel()\n",
    "criterion = nn.BCEWithLogitsLoss()\n",
    "optimizer = optim.Adam(model.parameters(), lr=1e-3)\n",
    "\n",
    "epochs = 1\n",
    "for epoch in range(epochs):\n",
    "    for batch_idx, (data, target) in enumerate(train_loader):\n",
    "        optimizer.zero_grad()\n",
    "        output = model(data)\n",
    "        loss = criterion(output, data)\n",
    "        loss.backward()\n",
    "        optimizer.step()\n",
    "        \n",
    "    print('Epoch {}, Batch idx {}, loss {}'.format(\n",
    "        epoch, batch_idx, loss.item()))\n",
    "\n"
   ]
  },
  {
   "cell_type": "code",
   "execution_count": 4,
   "id": "imperial-restaurant",
   "metadata": {},
   "outputs": [
    {
     "name": "stdout",
     "output_type": "stream",
     "text": [
      "MyModel(\n",
      "  (conv1): Conv2d(1, 3, kernel_size=(3, 3), stride=(1, 1), padding=(1, 1))\n",
      "  (pool1): MaxPool2d(kernel_size=2, stride=2, padding=0, dilation=1, ceil_mode=False)\n",
      "  (conv2): Conv2d(3, 6, kernel_size=(3, 3), stride=(1, 1), padding=(1, 1))\n",
      "  (pool2): MaxPool2d(kernel_size=2, stride=2, padding=0, dilation=1, ceil_mode=False)\n",
      "  (conv_trans1): ConvTranspose2d(6, 3, kernel_size=(4, 4), stride=(2, 2), padding=(1, 1))\n",
      "  (conv_trans2): ConvTranspose2d(3, 1, kernel_size=(4, 4), stride=(2, 2), padding=(1, 1))\n",
      ")\n"
     ]
    }
   ],
   "source": [
    "print(model)"
   ]
  },
  {
   "cell_type": "code",
   "execution_count": 5,
   "id": "sufficient-feedback",
   "metadata": {},
   "outputs": [
    {
     "data": {
      "text/plain": [
       "<torch.utils.hooks.RemovableHandle at 0x7f536d741b50>"
      ]
     },
     "execution_count": 5,
     "metadata": {},
     "output_type": "execute_result"
    }
   ],
   "source": [
    "def normalize_output(img):\n",
    "    img = img - img.min()\n",
    "    img = img / img.max()\n",
    "    return img\n",
    "\n",
    "'''\n",
    "# Plot some images\n",
    "idx = torch.randint(0, output.size(0), ())\n",
    "pred = normalize_output(output[idx, 0])\n",
    "img = data[idx, 0]\n",
    "\n",
    "fig, axarr = plt.subplots(1, 2)\n",
    "axarr[0].imshow(img.detach().numpy())\n",
    "axarr[1].imshow(pred.detach().numpy())\n",
    "'''\n",
    "# Visualize feature maps\n",
    "activation = {}\n",
    "def get_activation(name):\n",
    "    def hook(model,input, output):\n",
    "        activation[name] = output.detach()\n",
    "    return hook\n",
    "\n",
    "model.conv1.register_forward_hook(get_activation('conv1'))\n",
    "model.conv2.register_forward_hook(get_activation('conv2'))\n",
    "model.conv_trans1.register_forward_hook(get_activation('conv_trans1'))\n",
    "model.pool1.register_forward_hook(get_activation('pool1'))"
   ]
  },
  {
   "cell_type": "code",
   "execution_count": 6,
   "id": "sacred-parliament",
   "metadata": {
    "scrolled": true
   },
   "outputs": [
    {
     "data": {
      "text/plain": [
       "\"\\ndata, _ = dataset[1]\\ndata.unsqueeze_(0)\\noutput = model(data)\\n\\nact = activation['conv1'].squeeze()\\nfig, axarr = plt.subplots(act.size(0))\\nfor idx in range(act.size(0)):\\n    axarr[idx].imshow(act[idx])\\n\""
      ]
     },
     "execution_count": 6,
     "metadata": {},
     "output_type": "execute_result"
    }
   ],
   "source": [
    "dataset = torchvision.datasets.MNIST('/files/', train=True, download=True,\n",
    "                             transform=torchvision.transforms.Compose([\n",
    "                               torchvision.transforms.ToTensor(),\n",
    "                               torchvision.transforms.Normalize(\n",
    "                                 (0.1307,), (0.3081,))\n",
    "                             ]))\n",
    "\n",
    "'''\n",
    "data, _ = dataset[1]\n",
    "data.unsqueeze_(0)\n",
    "output = model(data)\n",
    "\n",
    "act = activation['conv1'].squeeze()\n",
    "fig, axarr = plt.subplots(act.size(0))\n",
    "for idx in range(act.size(0)):\n",
    "    axarr[idx].imshow(act[idx])\n",
    "'''"
   ]
  },
  {
   "cell_type": "code",
   "execution_count": 7,
   "id": "relevant-street",
   "metadata": {},
   "outputs": [],
   "source": [
    "import numpy as np\n",
    "m = nn.ReLU()\n",
    "def convert_to_ones(inp):\n",
    "    #relu_inp = m(inp)\n",
    "    inp[inp <= 100] = 0\n",
    "    inp[inp > 100] = 1\n",
    "    return inp"
   ]
  },
  {
   "cell_type": "code",
   "execution_count": 37,
   "id": "handled-multiple",
   "metadata": {
    "scrolled": true
   },
   "outputs": [
    {
     "name": "stdout",
     "output_type": "stream",
     "text": [
      "0.5471938775510204\n",
      "0.3010204081632653\n",
      "0.061224489795918366\n",
      "0.4897959183673469\n"
     ]
    },
    {
     "data": {
      "image/png": "[encoded data removed]",
      "text/plain": [
       "<Figure size 432x288 with 1 Axes>"
      ]
     },
     "metadata": {
      "needs_background": "light"
     },
     "output_type": "display_data"
    },
    {
     "data": {
      "image/png": "[encoded data removed]",
      "text/plain": [
       "<Figure size 432x288 with 1 Axes>"
      ]
     },
     "metadata": {
      "needs_background": "light"
     },
     "output_type": "display_data"
    },
    {
     "data": {
      "image/png": "[encoded data removed]",
      "text/plain": [
       "<Figure size 432x288 with 1 Axes>"
      ]
     },
     "metadata": {
      "needs_background": "light"
     },
     "output_type": "display_data"
    },
    {
     "data": {
      "image/png": "[encoded data removed]",
      "text/plain": [
       "<Figure size 432x288 with 1 Axes>"
      ]
     },
     "metadata": {
      "needs_background": "light"
     },
     "output_type": "display_data"
    },
    {
     "data": {
      "image/png": "[encoded data removed]",
      "text/plain": [
       "<Figure size 432x288 with 1 Axes>"
      ]
     },
     "metadata": {
      "needs_background": "light"
     },
     "output_type": "display_data"
    },
    {
     "data": {
      "image/png": "[encoded data removed]",
      "text/plain": [
       "<Figure size 432x288 with 1 Axes>"
      ]
     },
     "metadata": {
      "needs_background": "light"
     },
     "output_type": "display_data"
    },
    {
     "data": {
      "image/png": "[encoded data removed]",
      "text/plain": [
       "<Figure size 432x288 with 1 Axes>"
      ]
     },
     "metadata": {
      "needs_background": "light"
     },
     "output_type": "display_data"
    },
    {
     "data": {
      "image/png": "[encoded data removed]",
      "text/plain": [
       "<Figure size 432x288 with 1 Axes>"
      ]
     },
     "metadata": {
      "needs_background": "light"
     },
     "output_type": "display_data"
    }
   ],
   "source": [
    "def diff(name, indx1, indx2):\n",
    "    def convert(index, name):\n",
    "        data, _ = dataset[index]\n",
    "        data.unsqueeze_(0)\n",
    "        output = model(data)\n",
    "        act = activation[name].squeeze()\n",
    "        fig, axarr = plt.subplots(1)\n",
    "        tensor = act[0]\n",
    "        for idx in range(1, act.size(0)):\n",
    "            tensor += act[idx]\n",
    "        #tensor = convert_to_ones(tensor)\n",
    "        plt.imshow(tensor)\n",
    "        return tensor\n",
    "    \n",
    "    tensor1 = convert(indx1, name)\n",
    "    tensor2 = convert(indx2, name)\n",
    "    intersection = torch.sum(tensor1 == tensor2).item() / (tensor1.shape[0] * tensor1.shape[1])\n",
    "    return intersection\n",
    "print(diff('conv1', 1, 4))\n",
    "print(diff('conv2', 1, 4))\n",
    "print(diff('conv_trans1', 1, 4))\n",
    "print(diff('pool1', 1, 4))"
   ]
  },
  {
   "cell_type": "markdown",
   "id": "fallen-brazil",
   "metadata": {},
   "source": [
    "# Using a classifier network"
   ]
  },
  {
   "cell_type": "code",
   "execution_count": 15,
   "id": "stretch-montgomery",
   "metadata": {},
   "outputs": [],
   "source": [
    "class Net(nn.Module):\n",
    "    def __init__(self):\n",
    "        super(Net, self).__init__()\n",
    "        self.conv1 = nn.Conv2d(1, 10, kernel_size=5)\n",
    "        self.conv2 = nn.Conv2d(10, 20, kernel_size=5)\n",
    "        self.conv2_drop = nn.Dropout2d()\n",
    "        self.fc1 = nn.Linear(320, 50)\n",
    "        self.fc2 = nn.Linear(50, 10)\n",
    "\n",
    "    def forward(self, x):\n",
    "        x = F.relu(F.max_pool2d(self.conv1(x), 2))\n",
    "        x = F.relu(F.max_pool2d(self.conv2_drop(self.conv2(x)), 2))\n",
    "        #print(x.shape)\n",
    "        x = x.view(-1, 320)\n",
    "        x = F.relu(self.fc1(x))\n",
    "        x = F.dropout(x, training=self.training)\n",
    "        x = self.fc2(x)\n",
    "        return F.log_softmax(x)\n",
    "    \n",
    "network = Net()\n",
    "optimizer = optim.SGD(network.parameters(), lr=learning_rate,\n",
    "                      momentum=momentum)\n",
    "\n",
    "train_losses = []\n",
    "train_counter = []\n",
    "test_losses = []\n",
    "test_counter = [i*len(train_loader.dataset) for i in range(n_epochs + 1)]\n",
    "\n",
    "n_epochs = 3\n",
    "batch_size_train = 64\n",
    "batch_size_test = 1000\n",
    "learning_rate = 0.01\n",
    "momentum = 0.5\n",
    "log_interval = 10\n",
    "\n",
    "random_seed = 1\n",
    "torch.backends.cudnn.enabled = False\n",
    "torch.manual_seed(random_seed)\n",
    "train_loader = torch.utils.data.DataLoader(\n",
    "  torchvision.datasets.MNIST('/files/', train=True, download=True,\n",
    "                             transform=torchvision.transforms.Compose([\n",
    "                               torchvision.transforms.ToTensor(),\n",
    "                               torchvision.transforms.Normalize(\n",
    "                                 (0.1307,), (0.3081,))\n",
    "                             ])),\n",
    "  batch_size=batch_size_train, shuffle=True)\n",
    "\n",
    "test_loader = torch.utils.data.DataLoader(\n",
    "  torchvision.datasets.MNIST('/files/', train=False, download=True,\n",
    "                             transform=torchvision.transforms.Compose([\n",
    "                               torchvision.transforms.ToTensor(),\n",
    "                               torchvision.transforms.Normalize(\n",
    "                                 (0.1307,), (0.3081,))\n",
    "                             ])),\n",
    "  batch_size=batch_size_test, shuffle=True)\n",
    "\n",
    "def train(epoch):\n",
    "    network.train()\n",
    "    for batch_idx, (data, target) in enumerate(train_loader):\n",
    "        optimizer.zero_grad()\n",
    "        output = network(data)\n",
    "        loss = F.nll_loss(output, target)\n",
    "        loss.backward()\n",
    "        optimizer.step()\n",
    "        if batch_idx % log_interval == 0:\n",
    "            print('Train Epoch: {} [{}/{} ({:.0f}%)]\\tLoss: {:.6f}'.format(\n",
    "            epoch, batch_idx * len(data), len(train_loader.dataset),\n",
    "            100. * batch_idx / len(train_loader), loss.item()))\n",
    "            train_losses.append(loss.item())\n",
    "            train_counter.append(\n",
    "            (batch_idx*64) + ((epoch-1)*len(train_loader.dataset)))\n",
    "            torch.save(network.state_dict(), 'results/model.pth')\n",
    "            torch.save(optimizer.state_dict(), 'results/optimizer.pth')\n",
    "    \n",
    "\n",
    "def test():\n",
    "    network.eval()\n",
    "    test_loss = 0\n",
    "    correct = 0\n",
    "    with torch.no_grad():\n",
    "        for data, target in test_loader:\n",
    "            output = network(data)\n",
    "            test_loss += F.nll_loss(output, target, size_average=False).item()\n",
    "            pred = output.data.max(1, keepdim=True)[1]\n",
    "            correct += pred.eq(target.data.view_as(pred)).sum()\n",
    "            test_loss /= len(test_loader.dataset)\n",
    "            test_losses.append(test_loss)\n",
    "            print('\\nTest set: Avg. loss: {:.4f}, Accuracy: {}/{} ({:.0f}%)\\n'.format(test_loss, correct, len(test_loader.dataset),100. * correct / len(test_loader.dataset)))\n",
    "\n"
   ]
  },
  {
   "cell_type": "code",
   "execution_count": 16,
   "id": "addressed-vegetation",
   "metadata": {
    "scrolled": true
   },
   "outputs": [
    {
     "name": "stderr",
     "output_type": "stream",
     "text": [
      "/opt/conda/lib/python3.7/site-packages/ipykernel_launcher.py:18: UserWarning: Implicit dimension choice for log_softmax has been deprecated. Change the call to include dim=X as an argument.\n"
     ]
    },
    {
     "name": "stdout",
     "output_type": "stream",
     "text": [
      "\n",
      "Test set: Avg. loss: 0.2300, Accuracy: 87/10000 (1%)\n",
      "\n",
      "\n",
      "Test set: Avg. loss: 0.2297, Accuracy: 179/10000 (2%)\n",
      "\n",
      "\n",
      "Test set: Avg. loss: 0.2302, Accuracy: 258/10000 (3%)\n",
      "\n",
      "\n",
      "Test set: Avg. loss: 0.2298, Accuracy: 348/10000 (3%)\n",
      "\n",
      "\n",
      "Test set: Avg. loss: 0.2300, Accuracy: 440/10000 (4%)\n",
      "\n",
      "\n",
      "Test set: Avg. loss: 0.2304, Accuracy: 524/10000 (5%)\n",
      "\n",
      "\n",
      "Test set: Avg. loss: 0.2302, Accuracy: 619/10000 (6%)\n",
      "\n",
      "\n",
      "Test set: Avg. loss: 0.2301, Accuracy: 701/10000 (7%)\n",
      "\n",
      "\n",
      "Test set: Avg. loss: 0.2305, Accuracy: 800/10000 (8%)\n",
      "\n",
      "\n",
      "Test set: Avg. loss: 0.2295, Accuracy: 889/10000 (9%)\n",
      "\n",
      "Train Epoch: 1 [0/60000 (0%)]\tLoss: 2.344846\n",
      "Train Epoch: 1 [640/60000 (1%)]\tLoss: 2.272163\n",
      "Train Epoch: 1 [1280/60000 (2%)]\tLoss: 2.258888\n",
      "Train Epoch: 1 [1920/60000 (3%)]\tLoss: 2.315608\n",
      "Train Epoch: 1 [2560/60000 (4%)]\tLoss: 2.277501\n",
      "Train Epoch: 1 [3200/60000 (5%)]\tLoss: 2.201874\n",
      "Train Epoch: 1 [3840/60000 (6%)]\tLoss: 2.242983\n",
      "Train Epoch: 1 [4480/60000 (7%)]\tLoss: 2.156254\n",
      "Train Epoch: 1 [5120/60000 (9%)]\tLoss: 2.094819\n",
      "Train Epoch: 1 [5760/60000 (10%)]\tLoss: 2.075081\n",
      "Train Epoch: 1 [6400/60000 (11%)]\tLoss: 1.951020\n",
      "Train Epoch: 1 [7040/60000 (12%)]\tLoss: 1.931404\n",
      "Train Epoch: 1 [7680/60000 (13%)]\tLoss: 1.797239\n",
      "Train Epoch: 1 [8320/60000 (14%)]\tLoss: 1.626307\n",
      "Train Epoch: 1 [8960/60000 (15%)]\tLoss: 1.534996\n",
      "Train Epoch: 1 [9600/60000 (16%)]\tLoss: 1.563296\n",
      "Train Epoch: 1 [10240/60000 (17%)]\tLoss: 1.378612\n",
      "Train Epoch: 1 [10880/60000 (18%)]\tLoss: 1.362159\n",
      "Train Epoch: 1 [11520/60000 (19%)]\tLoss: 1.218910\n",
      "Train Epoch: 1 [12160/60000 (20%)]\tLoss: 1.231807\n",
      "Train Epoch: 1 [12800/60000 (21%)]\tLoss: 0.808160\n",
      "Train Epoch: 1 [13440/60000 (22%)]\tLoss: 0.972434\n",
      "Train Epoch: 1 [14080/60000 (23%)]\tLoss: 1.254900\n",
      "Train Epoch: 1 [14720/60000 (25%)]\tLoss: 1.250376\n",
      "Train Epoch: 1 [15360/60000 (26%)]\tLoss: 0.949207\n",
      "Train Epoch: 1 [16000/60000 (27%)]\tLoss: 0.919197\n",
      "Train Epoch: 1 [16640/60000 (28%)]\tLoss: 1.067353\n",
      "Train Epoch: 1 [17280/60000 (29%)]\tLoss: 1.006520\n",
      "Train Epoch: 1 [17920/60000 (30%)]\tLoss: 1.017806\n",
      "Train Epoch: 1 [18560/60000 (31%)]\tLoss: 0.937209\n",
      "Train Epoch: 1 [19200/60000 (32%)]\tLoss: 0.853468\n",
      "Train Epoch: 1 [19840/60000 (33%)]\tLoss: 0.832494\n",
      "Train Epoch: 1 [20480/60000 (34%)]\tLoss: 0.761361\n",
      "Train Epoch: 1 [21120/60000 (35%)]\tLoss: 0.838870\n",
      "Train Epoch: 1 [21760/60000 (36%)]\tLoss: 0.847228\n",
      "Train Epoch: 1 [22400/60000 (37%)]\tLoss: 0.578884\n",
      "Train Epoch: 1 [23040/60000 (38%)]\tLoss: 0.703810\n",
      "Train Epoch: 1 [23680/60000 (39%)]\tLoss: 0.949461\n",
      "Train Epoch: 1 [24320/60000 (41%)]\tLoss: 0.918168\n",
      "Train Epoch: 1 [24960/60000 (42%)]\tLoss: 0.543720\n",
      "Train Epoch: 1 [25600/60000 (43%)]\tLoss: 0.770981\n",
      "Train Epoch: 1 [26240/60000 (44%)]\tLoss: 0.483868\n",
      "Train Epoch: 1 [26880/60000 (45%)]\tLoss: 0.700629\n",
      "Train Epoch: 1 [27520/60000 (46%)]\tLoss: 0.645557\n",
      "Train Epoch: 1 [28160/60000 (47%)]\tLoss: 0.809112\n",
      "Train Epoch: 1 [28800/60000 (48%)]\tLoss: 0.507131\n",
      "Train Epoch: 1 [29440/60000 (49%)]\tLoss: 0.665972\n",
      "Train Epoch: 1 [30080/60000 (50%)]\tLoss: 0.593387\n",
      "Train Epoch: 1 [30720/60000 (51%)]\tLoss: 0.776512\n",
      "Train Epoch: 1 [31360/60000 (52%)]\tLoss: 0.704672\n",
      "Train Epoch: 1 [32000/60000 (53%)]\tLoss: 0.514662\n",
      "Train Epoch: 1 [32640/60000 (54%)]\tLoss: 0.546695\n",
      "Train Epoch: 1 [33280/60000 (55%)]\tLoss: 0.515395\n",
      "Train Epoch: 1 [33920/60000 (57%)]\tLoss: 0.675412\n",
      "Train Epoch: 1 [34560/60000 (58%)]\tLoss: 0.511352\n",
      "Train Epoch: 1 [35200/60000 (59%)]\tLoss: 0.504014\n",
      "Train Epoch: 1 [35840/60000 (60%)]\tLoss: 0.474315\n",
      "Train Epoch: 1 [36480/60000 (61%)]\tLoss: 0.463483\n",
      "Train Epoch: 1 [37120/60000 (62%)]\tLoss: 0.661898\n",
      "Train Epoch: 1 [37760/60000 (63%)]\tLoss: 0.563136\n",
      "Train Epoch: 1 [38400/60000 (64%)]\tLoss: 0.446841\n",
      "Train Epoch: 1 [39040/60000 (65%)]\tLoss: 0.675606\n",
      "Train Epoch: 1 [39680/60000 (66%)]\tLoss: 0.587961\n",
      "Train Epoch: 1 [40320/60000 (67%)]\tLoss: 0.667385\n",
      "Train Epoch: 1 [40960/60000 (68%)]\tLoss: 0.570889\n",
      "Train Epoch: 1 [41600/60000 (69%)]\tLoss: 0.462426\n",
      "Train Epoch: 1 [42240/60000 (70%)]\tLoss: 0.573972\n",
      "Train Epoch: 1 [42880/60000 (71%)]\tLoss: 0.721809\n",
      "Train Epoch: 1 [43520/60000 (72%)]\tLoss: 0.566724\n",
      "Train Epoch: 1 [44160/60000 (74%)]\tLoss: 0.579313\n",
      "Train Epoch: 1 [44800/60000 (75%)]\tLoss: 0.388654\n",
      "Train Epoch: 1 [45440/60000 (76%)]\tLoss: 0.457680\n",
      "Train Epoch: 1 [46080/60000 (77%)]\tLoss: 0.277627\n",
      "Train Epoch: 1 [46720/60000 (78%)]\tLoss: 0.503362\n",
      "Train Epoch: 1 [47360/60000 (79%)]\tLoss: 0.469545\n",
      "Train Epoch: 1 [48000/60000 (80%)]\tLoss: 0.495870\n",
      "Train Epoch: 1 [48640/60000 (81%)]\tLoss: 0.641201\n",
      "Train Epoch: 1 [49280/60000 (82%)]\tLoss: 0.386502\n",
      "Train Epoch: 1 [49920/60000 (83%)]\tLoss: 0.412564\n",
      "Train Epoch: 1 [50560/60000 (84%)]\tLoss: 0.389247\n",
      "Train Epoch: 1 [51200/60000 (85%)]\tLoss: 0.420796\n",
      "Train Epoch: 1 [51840/60000 (86%)]\tLoss: 0.529016\n",
      "Train Epoch: 1 [52480/60000 (87%)]\tLoss: 0.493096\n",
      "Train Epoch: 1 [53120/60000 (88%)]\tLoss: 0.317346\n",
      "Train Epoch: 1 [53760/60000 (90%)]\tLoss: 0.385576\n",
      "Train Epoch: 1 [54400/60000 (91%)]\tLoss: 0.330365\n",
      "Train Epoch: 1 [55040/60000 (92%)]\tLoss: 0.510774\n",
      "Train Epoch: 1 [55680/60000 (93%)]\tLoss: 0.416654\n",
      "Train Epoch: 1 [56320/60000 (94%)]\tLoss: 0.495669\n",
      "Train Epoch: 1 [56960/60000 (95%)]\tLoss: 0.368961\n",
      "Train Epoch: 1 [57600/60000 (96%)]\tLoss: 0.480298\n",
      "Train Epoch: 1 [58240/60000 (97%)]\tLoss: 0.533893\n",
      "Train Epoch: 1 [58880/60000 (98%)]\tLoss: 0.617105\n",
      "Train Epoch: 1 [59520/60000 (99%)]\tLoss: 0.512347\n",
      "\n",
      "Test set: Avg. loss: 0.0211, Accuracy: 936/10000 (9%)\n",
      "\n",
      "\n",
      "Test set: Avg. loss: 0.0189, Accuracy: 1882/10000 (19%)\n",
      "\n",
      "\n",
      "Test set: Avg. loss: 0.0162, Accuracy: 2832/10000 (28%)\n",
      "\n",
      "\n",
      "Test set: Avg. loss: 0.0170, Accuracy: 3778/10000 (38%)\n",
      "\n",
      "\n",
      "Test set: Avg. loss: 0.0170, Accuracy: 4728/10000 (47%)\n",
      "\n",
      "\n",
      "Test set: Avg. loss: 0.0182, Accuracy: 5679/10000 (57%)\n",
      "\n",
      "\n",
      "Test set: Avg. loss: 0.0163, Accuracy: 6628/10000 (66%)\n",
      "\n",
      "\n",
      "Test set: Avg. loss: 0.0201, Accuracy: 7561/10000 (76%)\n",
      "\n",
      "\n",
      "Test set: Avg. loss: 0.0210, Accuracy: 8502/10000 (85%)\n",
      "\n",
      "\n",
      "Test set: Avg. loss: 0.0172, Accuracy: 9446/10000 (94%)\n",
      "\n",
      "Train Epoch: 2 [0/60000 (0%)]\tLoss: 0.289370\n",
      "Train Epoch: 2 [640/60000 (1%)]\tLoss: 0.481074\n",
      "Train Epoch: 2 [1280/60000 (2%)]\tLoss: 0.500890\n",
      "Train Epoch: 2 [1920/60000 (3%)]\tLoss: 0.532806\n",
      "Train Epoch: 2 [2560/60000 (4%)]\tLoss: 0.590856\n",
      "Train Epoch: 2 [3200/60000 (5%)]\tLoss: 0.415589\n",
      "Train Epoch: 2 [3840/60000 (6%)]\tLoss: 0.521411\n",
      "Train Epoch: 2 [4480/60000 (7%)]\tLoss: 0.431642\n",
      "Train Epoch: 2 [5120/60000 (9%)]\tLoss: 0.384698\n",
      "Train Epoch: 2 [5760/60000 (10%)]\tLoss: 0.398896\n",
      "Train Epoch: 2 [6400/60000 (11%)]\tLoss: 0.740508\n",
      "Train Epoch: 2 [7040/60000 (12%)]\tLoss: 0.359520\n",
      "Train Epoch: 2 [7680/60000 (13%)]\tLoss: 0.385334\n",
      "Train Epoch: 2 [8320/60000 (14%)]\tLoss: 0.524779\n",
      "Train Epoch: 2 [8960/60000 (15%)]\tLoss: 0.344348\n",
      "Train Epoch: 2 [9600/60000 (16%)]\tLoss: 0.489479\n",
      "Train Epoch: 2 [10240/60000 (17%)]\tLoss: 0.547002\n",
      "Train Epoch: 2 [10880/60000 (18%)]\tLoss: 0.404702\n",
      "Train Epoch: 2 [11520/60000 (19%)]\tLoss: 0.332247\n",
      "Train Epoch: 2 [12160/60000 (20%)]\tLoss: 0.297547\n",
      "Train Epoch: 2 [12800/60000 (21%)]\tLoss: 0.293954\n",
      "Train Epoch: 2 [13440/60000 (22%)]\tLoss: 0.374930\n",
      "Train Epoch: 2 [14080/60000 (23%)]\tLoss: 0.373236\n",
      "Train Epoch: 2 [14720/60000 (25%)]\tLoss: 0.390869\n",
      "Train Epoch: 2 [15360/60000 (26%)]\tLoss: 0.343613\n",
      "Train Epoch: 2 [16000/60000 (27%)]\tLoss: 0.539950\n",
      "Train Epoch: 2 [16640/60000 (28%)]\tLoss: 0.435773\n",
      "Train Epoch: 2 [17280/60000 (29%)]\tLoss: 0.249965\n",
      "Train Epoch: 2 [17920/60000 (30%)]\tLoss: 0.317010\n",
      "Train Epoch: 2 [18560/60000 (31%)]\tLoss: 0.709092\n",
      "Train Epoch: 2 [19200/60000 (32%)]\tLoss: 0.442090\n",
      "Train Epoch: 2 [19840/60000 (33%)]\tLoss: 0.410958\n",
      "Train Epoch: 2 [20480/60000 (34%)]\tLoss: 0.328398\n",
      "Train Epoch: 2 [21120/60000 (35%)]\tLoss: 0.653672\n",
      "Train Epoch: 2 [21760/60000 (36%)]\tLoss: 0.485809\n",
      "Train Epoch: 2 [22400/60000 (37%)]\tLoss: 0.322883\n",
      "Train Epoch: 2 [23040/60000 (38%)]\tLoss: 0.359773\n",
      "Train Epoch: 2 [23680/60000 (39%)]\tLoss: 0.365561\n",
      "Train Epoch: 2 [24320/60000 (41%)]\tLoss: 0.399757\n",
      "Train Epoch: 2 [24960/60000 (42%)]\tLoss: 0.316813\n",
      "Train Epoch: 2 [25600/60000 (43%)]\tLoss: 0.533200\n",
      "Train Epoch: 2 [26240/60000 (44%)]\tLoss: 0.248621\n",
      "Train Epoch: 2 [26880/60000 (45%)]\tLoss: 0.461538\n",
      "Train Epoch: 2 [27520/60000 (46%)]\tLoss: 0.277804\n",
      "Train Epoch: 2 [28160/60000 (47%)]\tLoss: 0.360168\n",
      "Train Epoch: 2 [28800/60000 (48%)]\tLoss: 0.321199\n",
      "Train Epoch: 2 [29440/60000 (49%)]\tLoss: 0.406530\n",
      "Train Epoch: 2 [30080/60000 (50%)]\tLoss: 0.785479\n",
      "Train Epoch: 2 [30720/60000 (51%)]\tLoss: 0.382332\n"
     ]
    },
    {
     "name": "stdout",
     "output_type": "stream",
     "text": [
      "Train Epoch: 2 [31360/60000 (52%)]\tLoss: 0.245540\n",
      "Train Epoch: 2 [32000/60000 (53%)]\tLoss: 0.275096\n",
      "Train Epoch: 2 [32640/60000 (54%)]\tLoss: 0.349338\n",
      "Train Epoch: 2 [33280/60000 (55%)]\tLoss: 0.503475\n",
      "Train Epoch: 2 [33920/60000 (57%)]\tLoss: 0.433165\n",
      "Train Epoch: 2 [34560/60000 (58%)]\tLoss: 0.301510\n",
      "Train Epoch: 2 [35200/60000 (59%)]\tLoss: 0.470247\n",
      "Train Epoch: 2 [35840/60000 (60%)]\tLoss: 0.194165\n",
      "Train Epoch: 2 [36480/60000 (61%)]\tLoss: 0.236121\n",
      "Train Epoch: 2 [37120/60000 (62%)]\tLoss: 0.261284\n",
      "Train Epoch: 2 [37760/60000 (63%)]\tLoss: 0.245381\n",
      "Train Epoch: 2 [38400/60000 (64%)]\tLoss: 0.359723\n",
      "Train Epoch: 2 [39040/60000 (65%)]\tLoss: 0.438134\n",
      "Train Epoch: 2 [39680/60000 (66%)]\tLoss: 0.360230\n",
      "Train Epoch: 2 [40320/60000 (67%)]\tLoss: 0.328114\n",
      "Train Epoch: 2 [40960/60000 (68%)]\tLoss: 0.420417\n",
      "Train Epoch: 2 [41600/60000 (69%)]\tLoss: 0.395165\n",
      "Train Epoch: 2 [42240/60000 (70%)]\tLoss: 0.224896\n",
      "Train Epoch: 2 [42880/60000 (71%)]\tLoss: 0.429919\n",
      "Train Epoch: 2 [43520/60000 (72%)]\tLoss: 0.352085\n",
      "Train Epoch: 2 [44160/60000 (74%)]\tLoss: 0.511390\n",
      "Train Epoch: 2 [44800/60000 (75%)]\tLoss: 0.427843\n",
      "Train Epoch: 2 [45440/60000 (76%)]\tLoss: 0.320683\n",
      "Train Epoch: 2 [46080/60000 (77%)]\tLoss: 0.531208\n",
      "Train Epoch: 2 [46720/60000 (78%)]\tLoss: 0.287899\n",
      "Train Epoch: 2 [47360/60000 (79%)]\tLoss: 0.280801\n",
      "Train Epoch: 2 [48000/60000 (80%)]\tLoss: 0.303215\n",
      "Train Epoch: 2 [48640/60000 (81%)]\tLoss: 0.290728\n",
      "Train Epoch: 2 [49280/60000 (82%)]\tLoss: 0.243653\n",
      "Train Epoch: 2 [49920/60000 (83%)]\tLoss: 0.317778\n",
      "Train Epoch: 2 [50560/60000 (84%)]\tLoss: 0.230866\n",
      "Train Epoch: 2 [51200/60000 (85%)]\tLoss: 0.388106\n",
      "Train Epoch: 2 [51840/60000 (86%)]\tLoss: 0.356522\n",
      "Train Epoch: 2 [52480/60000 (87%)]\tLoss: 0.360109\n",
      "Train Epoch: 2 [53120/60000 (88%)]\tLoss: 0.372977\n",
      "Train Epoch: 2 [53760/60000 (90%)]\tLoss: 0.217202\n",
      "Train Epoch: 2 [54400/60000 (91%)]\tLoss: 0.185328\n",
      "Train Epoch: 2 [55040/60000 (92%)]\tLoss: 0.288804\n",
      "Train Epoch: 2 [55680/60000 (93%)]\tLoss: 0.460839\n",
      "Train Epoch: 2 [56320/60000 (94%)]\tLoss: 0.329285\n",
      "Train Epoch: 2 [56960/60000 (95%)]\tLoss: 0.369740\n",
      "Train Epoch: 2 [57600/60000 (96%)]\tLoss: 0.364539\n",
      "Train Epoch: 2 [58240/60000 (97%)]\tLoss: 0.161073\n",
      "Train Epoch: 2 [58880/60000 (98%)]\tLoss: 0.332368\n",
      "Train Epoch: 2 [59520/60000 (99%)]\tLoss: 0.357501\n",
      "\n",
      "Test set: Avg. loss: 0.0103, Accuracy: 968/10000 (10%)\n",
      "\n",
      "\n",
      "Test set: Avg. loss: 0.0118, Accuracy: 1929/10000 (19%)\n",
      "\n",
      "\n",
      "Test set: Avg. loss: 0.0121, Accuracy: 2894/10000 (29%)\n",
      "\n",
      "\n",
      "Test set: Avg. loss: 0.0126, Accuracy: 3857/10000 (39%)\n",
      "\n",
      "\n",
      "Test set: Avg. loss: 0.0140, Accuracy: 4820/10000 (48%)\n",
      "\n",
      "\n",
      "Test set: Avg. loss: 0.0113, Accuracy: 5786/10000 (58%)\n",
      "\n",
      "\n",
      "Test set: Avg. loss: 0.0099, Accuracy: 6757/10000 (68%)\n",
      "\n",
      "\n",
      "Test set: Avg. loss: 0.0092, Accuracy: 7728/10000 (77%)\n",
      "\n",
      "\n",
      "Test set: Avg. loss: 0.0114, Accuracy: 8688/10000 (87%)\n",
      "\n",
      "\n",
      "Test set: Avg. loss: 0.0119, Accuracy: 9648/10000 (96%)\n",
      "\n",
      "Train Epoch: 3 [0/60000 (0%)]\tLoss: 0.411883\n",
      "Train Epoch: 3 [640/60000 (1%)]\tLoss: 0.430318\n",
      "Train Epoch: 3 [1280/60000 (2%)]\tLoss: 0.266859\n",
      "Train Epoch: 3 [1920/60000 (3%)]\tLoss: 0.249286\n",
      "Train Epoch: 3 [2560/60000 (4%)]\tLoss: 0.343573\n",
      "Train Epoch: 3 [3200/60000 (5%)]\tLoss: 0.323764\n",
      "Train Epoch: 3 [3840/60000 (6%)]\tLoss: 0.442994\n",
      "Train Epoch: 3 [4480/60000 (7%)]\tLoss: 0.361166\n",
      "Train Epoch: 3 [5120/60000 (9%)]\tLoss: 0.296534\n",
      "Train Epoch: 3 [5760/60000 (10%)]\tLoss: 0.380877\n",
      "Train Epoch: 3 [6400/60000 (11%)]\tLoss: 0.312518\n",
      "Train Epoch: 3 [7040/60000 (12%)]\tLoss: 0.298230\n",
      "Train Epoch: 3 [7680/60000 (13%)]\tLoss: 0.305139\n",
      "Train Epoch: 3 [8320/60000 (14%)]\tLoss: 0.397128\n",
      "Train Epoch: 3 [8960/60000 (15%)]\tLoss: 0.349612\n",
      "Train Epoch: 3 [9600/60000 (16%)]\tLoss: 0.304351\n",
      "Train Epoch: 3 [10240/60000 (17%)]\tLoss: 0.327646\n",
      "Train Epoch: 3 [10880/60000 (18%)]\tLoss: 0.249084\n",
      "Train Epoch: 3 [11520/60000 (19%)]\tLoss: 0.426723\n",
      "Train Epoch: 3 [12160/60000 (20%)]\tLoss: 0.365397\n",
      "Train Epoch: 3 [12800/60000 (21%)]\tLoss: 0.185397\n",
      "Train Epoch: 3 [13440/60000 (22%)]\tLoss: 0.204177\n",
      "Train Epoch: 3 [14080/60000 (23%)]\tLoss: 0.217082\n",
      "Train Epoch: 3 [14720/60000 (25%)]\tLoss: 0.175806\n",
      "Train Epoch: 3 [15360/60000 (26%)]\tLoss: 0.310348\n",
      "Train Epoch: 3 [16000/60000 (27%)]\tLoss: 0.258844\n",
      "Train Epoch: 3 [16640/60000 (28%)]\tLoss: 0.337786\n",
      "Train Epoch: 3 [17280/60000 (29%)]\tLoss: 0.470155\n",
      "Train Epoch: 3 [17920/60000 (30%)]\tLoss: 0.277169\n",
      "Train Epoch: 3 [18560/60000 (31%)]\tLoss: 0.361859\n",
      "Train Epoch: 3 [19200/60000 (32%)]\tLoss: 0.274654\n",
      "Train Epoch: 3 [19840/60000 (33%)]\tLoss: 0.222178\n",
      "Train Epoch: 3 [20480/60000 (34%)]\tLoss: 0.330874\n",
      "Train Epoch: 3 [21120/60000 (35%)]\tLoss: 0.331467\n",
      "Train Epoch: 3 [21760/60000 (36%)]\tLoss: 0.279996\n",
      "Train Epoch: 3 [22400/60000 (37%)]\tLoss: 0.494064\n",
      "Train Epoch: 3 [23040/60000 (38%)]\tLoss: 0.405654\n",
      "Train Epoch: 3 [23680/60000 (39%)]\tLoss: 0.195170\n",
      "Train Epoch: 3 [24320/60000 (41%)]\tLoss: 0.237103\n",
      "Train Epoch: 3 [24960/60000 (42%)]\tLoss: 0.362717\n",
      "Train Epoch: 3 [25600/60000 (43%)]\tLoss: 0.144665\n",
      "Train Epoch: 3 [26240/60000 (44%)]\tLoss: 0.400991\n",
      "Train Epoch: 3 [26880/60000 (45%)]\tLoss: 0.199001\n",
      "Train Epoch: 3 [27520/60000 (46%)]\tLoss: 0.593149\n",
      "Train Epoch: 3 [28160/60000 (47%)]\tLoss: 0.212642\n",
      "Train Epoch: 3 [28800/60000 (48%)]\tLoss: 0.366251\n",
      "Train Epoch: 3 [29440/60000 (49%)]\tLoss: 0.217043\n",
      "Train Epoch: 3 [30080/60000 (50%)]\tLoss: 0.176881\n",
      "Train Epoch: 3 [30720/60000 (51%)]\tLoss: 0.413334\n",
      "Train Epoch: 3 [31360/60000 (52%)]\tLoss: 0.234401\n",
      "Train Epoch: 3 [32000/60000 (53%)]\tLoss: 0.402641\n",
      "Train Epoch: 3 [32640/60000 (54%)]\tLoss: 0.177064\n",
      "Train Epoch: 3 [33280/60000 (55%)]\tLoss: 0.472116\n",
      "Train Epoch: 3 [33920/60000 (57%)]\tLoss: 0.327003\n",
      "Train Epoch: 3 [34560/60000 (58%)]\tLoss: 0.205312\n",
      "Train Epoch: 3 [35200/60000 (59%)]\tLoss: 0.156237\n",
      "Train Epoch: 3 [35840/60000 (60%)]\tLoss: 0.264034\n",
      "Train Epoch: 3 [36480/60000 (61%)]\tLoss: 0.409182\n",
      "Train Epoch: 3 [37120/60000 (62%)]\tLoss: 0.257625\n",
      "Train Epoch: 3 [37760/60000 (63%)]\tLoss: 0.329406\n",
      "Train Epoch: 3 [38400/60000 (64%)]\tLoss: 0.361606\n",
      "Train Epoch: 3 [39040/60000 (65%)]\tLoss: 0.137048\n",
      "Train Epoch: 3 [39680/60000 (66%)]\tLoss: 0.322625\n",
      "Train Epoch: 3 [40320/60000 (67%)]\tLoss: 0.274866\n",
      "Train Epoch: 3 [40960/60000 (68%)]\tLoss: 0.200706\n",
      "Train Epoch: 3 [41600/60000 (69%)]\tLoss: 0.243217\n",
      "Train Epoch: 3 [42240/60000 (70%)]\tLoss: 0.425877\n",
      "Train Epoch: 3 [42880/60000 (71%)]\tLoss: 0.241979\n",
      "Train Epoch: 3 [43520/60000 (72%)]\tLoss: 0.333352\n",
      "Train Epoch: 3 [44160/60000 (74%)]\tLoss: 0.282668\n",
      "Train Epoch: 3 [44800/60000 (75%)]\tLoss: 0.403573\n",
      "Train Epoch: 3 [45440/60000 (76%)]\tLoss: 0.339761\n",
      "Train Epoch: 3 [46080/60000 (77%)]\tLoss: 0.415631\n",
      "Train Epoch: 3 [46720/60000 (78%)]\tLoss: 0.289396\n",
      "Train Epoch: 3 [47360/60000 (79%)]\tLoss: 0.334226\n",
      "Train Epoch: 3 [48000/60000 (80%)]\tLoss: 0.246297\n",
      "Train Epoch: 3 [48640/60000 (81%)]\tLoss: 0.300811\n",
      "Train Epoch: 3 [49280/60000 (82%)]\tLoss: 0.164925\n",
      "Train Epoch: 3 [49920/60000 (83%)]\tLoss: 0.220518\n",
      "Train Epoch: 3 [50560/60000 (84%)]\tLoss: 0.249151\n",
      "Train Epoch: 3 [51200/60000 (85%)]\tLoss: 0.229194\n",
      "Train Epoch: 3 [51840/60000 (86%)]\tLoss: 0.322424\n",
      "Train Epoch: 3 [52480/60000 (87%)]\tLoss: 0.171083\n",
      "Train Epoch: 3 [53120/60000 (88%)]\tLoss: 0.374302\n",
      "Train Epoch: 3 [53760/60000 (90%)]\tLoss: 0.229276\n",
      "Train Epoch: 3 [54400/60000 (91%)]\tLoss: 0.168693\n",
      "Train Epoch: 3 [55040/60000 (92%)]\tLoss: 0.418085\n",
      "Train Epoch: 3 [55680/60000 (93%)]\tLoss: 0.249459\n",
      "Train Epoch: 3 [56320/60000 (94%)]\tLoss: 0.384529\n",
      "Train Epoch: 3 [56960/60000 (95%)]\tLoss: 0.283314\n",
      "Train Epoch: 3 [57600/60000 (96%)]\tLoss: 0.215876\n",
      "Train Epoch: 3 [58240/60000 (97%)]\tLoss: 0.192868\n",
      "Train Epoch: 3 [58880/60000 (98%)]\tLoss: 0.174698\n",
      "Train Epoch: 3 [59520/60000 (99%)]\tLoss: 0.309711\n",
      "\n",
      "Test set: Avg. loss: 0.0135, Accuracy: 958/10000 (10%)\n",
      "\n",
      "\n",
      "Test set: Avg. loss: 0.0087, Accuracy: 1933/10000 (19%)\n",
      "\n",
      "\n",
      "Test set: Avg. loss: 0.0114, Accuracy: 2893/10000 (29%)\n",
      "\n",
      "\n",
      "Test set: Avg. loss: 0.0070, Accuracy: 3868/10000 (39%)\n",
      "\n",
      "\n",
      "Test set: Avg. loss: 0.0097, Accuracy: 4834/10000 (48%)\n",
      "\n",
      "\n",
      "Test set: Avg. loss: 0.0081, Accuracy: 5808/10000 (58%)\n",
      "\n",
      "\n",
      "Test set: Avg. loss: 0.0070, Accuracy: 6788/10000 (68%)\n",
      "\n",
      "\n",
      "Test set: Avg. loss: 0.0079, Accuracy: 7765/10000 (78%)\n",
      "\n",
      "\n",
      "Test set: Avg. loss: 0.0091, Accuracy: 8733/10000 (87%)\n",
      "\n",
      "\n",
      "Test set: Avg. loss: 0.0096, Accuracy: 9701/10000 (97%)\n",
      "\n"
     ]
    }
   ],
   "source": [
    "test()\n",
    "for epoch in range(1, n_epochs + 1):\n",
    "    train(epoch)\n",
    "    test()"
   ]
  },
  {
   "cell_type": "code",
   "execution_count": 46,
   "id": "promotional-philadelphia",
   "metadata": {},
   "outputs": [],
   "source": [
    "def convert_to_classid(inp, class_id):\n",
    "    inp[inp <= 100] = 0\n",
    "    inp[inp > 100] = class_id * 10\n",
    "    return inp\n",
    "\n",
    "def diff2(name, indx1, indx2):\n",
    "    def convert(index, name):\n",
    "        data, _ = dataset[index]\n",
    "        data.unsqueeze_(0)\n",
    "        output = network(data)\n",
    "        act = activation[name].squeeze()\n",
    "        fig, axarr = plt.subplots(1)\n",
    "        tensor = act[0]\n",
    "        #for idx in range(1, act.size(0)):\n",
    "        #    tensor += act[idx]\n",
    "        #tensor = convert_to_ones(tensor)\n",
    "        plt.imshow(tensor)\n",
    "        return tensor\n",
    "    \n",
    "    tensor1 = convert(indx1, name)\n",
    "    tensor2 = convert(indx2, name)\n",
    "    intersection = torch.sum(tensor1 == tensor2).item() / (tensor1.shape[0] * tensor1.shape[1])\n",
    "    return intersection"
   ]
  },
  {
   "cell_type": "code",
   "execution_count": 47,
   "id": "robust-sigma",
   "metadata": {},
   "outputs": [
    {
     "data": {
      "text/plain": [
       "<torch.utils.hooks.RemovableHandle at 0x7f536d71db10>"
      ]
     },
     "execution_count": 47,
     "metadata": {},
     "output_type": "execute_result"
    }
   ],
   "source": [
    "def normalize_output(img):\n",
    "    img = img - img.min()\n",
    "    img = img / img.max()\n",
    "    return img\n",
    "\n",
    "# Visualize feature maps\n",
    "activation = {}\n",
    "def get_activation(name):\n",
    "    def hook(network,input, output):\n",
    "        activation[name] = output.detach()\n",
    "    return hook\n",
    "\n",
    "network.conv1.register_forward_hook(get_activation('conv1'))\n",
    "network.conv2.register_forward_hook(get_activation('conv2'))\n",
    "network.conv2_drop.register_forward_hook(get_activation('conv2_drop'))\n",
    "network.fc1.register_forward_hook(get_activation('fc1'))\n",
    "network.fc2.register_forward_hook(get_activation('fc2'))"
   ]
  },
  {
   "cell_type": "code",
   "execution_count": 52,
   "id": "canadian-serum",
   "metadata": {},
   "outputs": [
    {
     "data": {
      "text/plain": [
       "torch.Size([1, 10, 24, 24])"
      ]
     },
     "execution_count": 52,
     "metadata": {},
     "output_type": "execute_result"
    }
   ],
   "source": []
  },
  {
   "cell_type": "code",
   "execution_count": 50,
   "id": "domestic-bishop",
   "metadata": {
    "scrolled": false
   },
   "outputs": [
    {
     "name": "stderr",
     "output_type": "stream",
     "text": [
      "/opt/conda/lib/python3.7/site-packages/ipykernel_launcher.py:18: UserWarning: Implicit dimension choice for log_softmax has been deprecated. Change the call to include dim=X as an argument.\n"
     ]
    },
    {
     "name": "stdout",
     "output_type": "stream",
     "text": [
      "0.23958333333333334\n",
      "0.0\n",
      "0.0\n"
     ]
    },
    {
     "data": {
      "image/png": "[encoded data removed]",
      "text/plain": [
       "<Figure size 432x288 with 1 Axes>"
      ]
     },
     "metadata": {
      "needs_background": "light"
     },
     "output_type": "display_data"
    },
    {
     "data": {
      "image/png": "[encoded data removed]",
      "text/plain": [
       "<Figure size 432x288 with 1 Axes>"
      ]
     },
     "metadata": {
      "needs_background": "light"
     },
     "output_type": "display_data"
    },
    {
     "data": {
      "image/png": "[encoded data removed]",
      "text/plain": [
       "<Figure size 432x288 with 1 Axes>"
      ]
     },
     "metadata": {
      "needs_background": "light"
     },
     "output_type": "display_data"
    },
    {
     "data": {
      "image/png": "[encoded data removed]",
      "text/plain": [
       "<Figure size 432x288 with 1 Axes>"
      ]
     },
     "metadata": {
      "needs_background": "light"
     },
     "output_type": "display_data"
    },
    {
     "data": {
      "image/png": "[encoded data removed]",
      "text/plain": [
       "<Figure size 432x288 with 1 Axes>"
      ]
     },
     "metadata": {
      "needs_background": "light"
     },
     "output_type": "display_data"
    },
    {
     "data": {
      "image/png": "[encoded data removed]",
      "text/plain": [
       "<Figure size 432x288 with 1 Axes>"
      ]
     },
     "metadata": {
      "needs_background": "light"
     },
     "output_type": "display_data"
    }
   ],
   "source": [
    "ind1 = 1\n",
    "ind2 = 21\n",
    "print(diff2('conv1', ind1, ind2))\n",
    "print(diff2('conv2', ind1, ind2))\n",
    "print(diff2('conv2_drop', ind1, ind2))\n",
    "#print(diff2('fc1', 1, 4))"
   ]
  },
  {
   "cell_type": "code",
   "execution_count": 36,
   "id": "deluxe-culture",
   "metadata": {},
   "outputs": [
    {
     "name": "stderr",
     "output_type": "stream",
     "text": [
      "/opt/conda/lib/python3.7/site-packages/ipykernel_launcher.py:18: UserWarning: Implicit dimension choice for log_softmax has been deprecated. Change the call to include dim=X as an argument.\n"
     ]
    },
    {
     "data": {
      "text/plain": [
       "<matplotlib.image.AxesImage at 0x7f535c3c0b50>"
      ]
     },
     "execution_count": 36,
     "metadata": {},
     "output_type": "execute_result"
    },
    {
     "data": {
      "image/png": "[encoded data removed]",
      "text/plain": [
       "<Figure size 432x288 with 1 Axes>"
      ]
     },
     "metadata": {
      "needs_background": "light"
     },
     "output_type": "display_data"
    }
   ],
   "source": [
    "data, _ = dataset[18]\n",
    "data.unsqueeze_(0)\n",
    "output = network(data)\n",
    "act = activation['conv1'].squeeze()\n",
    "fig, axarr = plt.subplots(1)\n",
    "test = act[0]\n",
    "for idx in range(1, act.size(0)):\n",
    "    test += act[idx]\n",
    "#test = convert_to_classid(test,output.argmax().item())\n",
    "plt.imshow(test)"
   ]
  },
  {
   "cell_type": "code",
   "execution_count": 31,
   "id": "coordinated-court",
   "metadata": {},
   "outputs": [
    {
     "data": {
      "text/plain": [
       "6"
      ]
     },
     "execution_count": 31,
     "metadata": {},
     "output_type": "execute_result"
    }
   ],
   "source": [
    "output.argmax().item()"
   ]
  },
  {
   "cell_type": "code",
   "execution_count": 105,
   "id": "cultural-respondent",
   "metadata": {},
   "outputs": [
    {
     "data": {
      "text/plain": [
       "dict_keys(['conv1', 'pool1', 'conv2', 'conv_trans1'])"
      ]
     },
     "execution_count": 105,
     "metadata": {},
     "output_type": "execute_result"
    }
   ],
   "source": [
    "activation.keys()"
   ]
  },
  {
   "cell_type": "code",
   "execution_count": 53,
   "id": "sharp-triumph",
   "metadata": {},
   "outputs": [],
   "source": []
  },
  {
   "cell_type": "code",
   "execution_count": 7,
   "id": "liable-depression",
   "metadata": {},
   "outputs": [
    {
     "data": {
      "image/png": "[encoded data removed]",
      "text/plain": [
       "<Figure size 432x288 with 6 Axes>"
      ]
     },
     "metadata": {
      "needs_background": "light"
     },
     "output_type": "display_data"
    }
   ],
   "source": [
    "act = activation['conv2'].squeeze()\n",
    "fig, axarr = plt.subplots(act.size(0))\n",
    "for idx in range(act.size(0)):\n",
    "    axarr[idx].imshow(act[idx])"
   ]
  },
  {
   "cell_type": "code",
   "execution_count": null,
   "id": "considered-pacific",
   "metadata": {},
   "outputs": [],
   "source": [
    "model.conv_trans1.register_forward_hook(get_activation('conv_trans1'))"
   ]
  },
  {
   "cell_type": "code",
   "execution_count": 8,
   "id": "empty-arctic",
   "metadata": {},
   "outputs": [
    {
     "data": {
      "image/png": "[encoded data removed]",
      "text/plain": [
       "<Figure size 432x288 with 3 Axes>"
      ]
     },
     "metadata": {
      "needs_background": "light"
     },
     "output_type": "display_data"
    }
   ],
   "source": [
    "act = activation['conv_trans1'].squeeze()\n",
    "fig, axarr = plt.subplots(act.size(0))\n",
    "for idx in range(act.size(0)):\n",
    "    axarr[idx].imshow(act[idx])"
   ]
  },
  {
   "cell_type": "code",
   "execution_count": null,
   "id": "complete-czech",
   "metadata": {},
   "outputs": [],
   "source": []
  },
  {
   "cell_type": "code",
   "execution_count": 9,
   "id": "dominant-inflation",
   "metadata": {},
   "outputs": [
    {
     "data": {
      "image/png": "[encoded data removed]",
      "text/plain": [
       "<Figure size 432x288 with 3 Axes>"
      ]
     },
     "metadata": {
      "needs_background": "light"
     },
     "output_type": "display_data"
    }
   ],
   "source": [
    "act = activation['pool1'].squeeze()\n",
    "fig, axarr = plt.subplots(act.size(0))\n",
    "for idx in range(act.size(0)):\n",
    "    axarr[idx].imshow(act[idx])"
   ]
  },
  {
   "cell_type": "code",
   "execution_count": null,
   "id": "enhanced-consultancy",
   "metadata": {},
   "outputs": [],
   "source": [
    "activation.keys()"
   ]
  },
  {
   "cell_type": "code",
   "execution_count": null,
   "id": "charged-emperor",
   "metadata": {},
   "outputs": [],
   "source": []
  }
 ],
 "metadata": {
  "kernelspec": {
   "display_name": "Python 3",
   "language": "python",
   "name": "python3"
  },
  "language_info": {
   "codemirror_mode": {
    "name": "ipython",
    "version": 3
   },
   "file_extension": ".py",
   "mimetype": "text/x-python",
   "name": "python",
   "nbconvert_exporter": "python",
   "pygments_lexer": "ipython3",
   "version": "3.7.7"
  }
 },
 "nbformat": 4,
 "nbformat_minor": 5
}
